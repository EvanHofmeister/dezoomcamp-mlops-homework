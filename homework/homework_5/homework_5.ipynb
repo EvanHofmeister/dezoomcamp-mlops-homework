{
 "cells": [
  {
   "cell_type": "markdown",
   "metadata": {},
   "source": [
    "## Homework\n",
    "\n",
    "In this homework, we’ll deploy the ride duration model in batch mode.\n",
    "Like in homework 1, we’ll use the Yellow Taxi Trip Records dataset.\n",
    "\n",
    "You’ll find the starter code in the [homework](homework) directory.\n",
    "\n"
   ],
   "id": "b24b3851-6e8e-4985-af9a-2c6e9a0341a2"
  },
  {
   "cell_type": "code",
   "execution_count": 1,
   "outputs": [],
   "source": [
    "import pandas as pd\n",
    "import numpy as np\n",
    "import pickle\n",
    "import seaborn as sns\n",
    "import matplotlib.pyplot as plt\n",
    "from pathlib import Path\n",
    "\n",
    "#sklearn\n",
    "from sklearn.feature_extraction import DictVectorizer\n",
    "from sklearn.linear_model import LinearRegression\n",
    "from sklearn.linear_model import Lasso\n",
    "from sklearn.linear_model import Ridge\n",
    "from sklearn.metrics import mean_squared_error"
   ],
   "metadata": {
    "collapsed": false
   }
  },
  {
   "cell_type": "markdown",
   "source": [
    "## Q1. Notebook\n",
    "\n",
    "We’ll start with the same notebook we ended up with in homework 1. We\n",
    "cleaned it a little bit and kept only the scoring part. You can find the\n",
    "initial notebook [here](homework/starter.ipynb).\n",
    "\n",
    "Run this notebook for the February 2022 data.\n",
    "\n",
    "What’s the standard deviation of the predicted duration for this\n",
    "dataset?\n",
    "\n",
    "-   5.28\n",
    "-   10.28\n",
    "-   15.28\n",
    "-   20.28\n",
    "\n"
   ],
   "metadata": {
    "collapsed": false
   }
  },
  {
   "cell_type": "code",
   "execution_count": 2,
   "outputs": [],
   "source": [
    "def fetch(dataset_url: str) -> pd.DataFrame:\n",
    "    print(dataset_url)\n",
    "    # df = pd.read_csv(dataset_url, compression='gzip')\n",
    "    df = pd.read_parquet(dataset_url)\n",
    "    return df"
   ],
   "metadata": {
    "collapsed": false
   }
  },
  {
   "cell_type": "code",
   "execution_count": 3,
   "outputs": [],
   "source": [
    "def save_to_file(path):\n",
    "    path = Path(f\"{path}/trips_data_{months[0]:02}-{years[0]}_{months[-1]:02}-{years[-1]}.parquet\")\n",
    "    if not path.parent.is_dir():\n",
    "        path.parent.mkdir(parents=True)\n",
    "    path = Path(path).as_posix()\n",
    "    df.to_parquet(path, compression=\"gzip\")\n",
    "    print(f\"data saved to file: {path}\")"
   ],
   "metadata": {
    "collapsed": false
   }
  },
  {
   "cell_type": "code",
   "execution_count": 6,
   "outputs": [],
   "source": [
    "colors = [\"green\"]\n",
    "months = [3]\n",
    "years = [2023]"
   ],
   "metadata": {
    "collapsed": false
   }
  },
  {
   "cell_type": "code",
   "execution_count": 7,
   "outputs": [
    {
     "name": "stdout",
     "output_type": "stream",
     "text": [
      "https://d37ci6vzurychx.cloudfront.net/trip-data/green_tripdata_2023-03.parquet\n",
      "data saved to file: data/trips_data_03-2023_03-2023.parquet\n"
     ]
    }
   ],
   "source": [
    "df = pd.DataFrame()\n",
    "for color in colors:\n",
    "    for month in months:\n",
    "        for year in years:\n",
    "            url = f\"https://d37ci6vzurychx.cloudfront.net/trip-data/{color}_tripdata_{year}-{month:02}.parquet\"\n",
    "\n",
    "            df = pd.concat([df, fetch(url)], ignore_index=True)\n",
    "\n",
    "save_to_file(\"data\")\n"
   ],
   "metadata": {
    "collapsed": false
   }
  },
  {
   "cell_type": "code",
   "execution_count": 8,
   "outputs": [],
   "source": [
    "df = pd.read_parquet(f\"data/trips_data_{months[0]:02}-{years[0]}_{months[-1]:02}-{years[-1]}.parquet\")"
   ],
   "metadata": {
    "collapsed": false
   }
  },
  {
   "cell_type": "markdown",
   "source": [
    "#### Q2."
   ],
   "metadata": {
    "collapsed": false
   }
  },
  {
   "cell_type": "code",
   "execution_count": 12,
   "outputs": [
    {
     "data": {
      "text/plain": "           VendorID           lpep_pickup_datetime  \\\ncount  72044.000000                          72044   \nmean       1.865443  2023-03-16 08:02:42.689842432   \nmin        1.000000            2023-02-23 16:46:29   \n25%        2.000000     2023-03-08 13:55:49.500000   \n50%        2.000000     2023-03-16 08:05:27.500000   \n75%        2.000000     2023-03-23 21:51:25.500000   \nmax        2.000000            2023-04-01 00:09:27   \nstd        0.341252                            NaN   \n\n               lpep_dropoff_datetime    RatecodeID  PULocationID  \\\ncount                          72044  67507.000000  72044.000000   \nmean   2023-03-16 08:20:56.525747968      1.145703     98.437413   \nmin              2023-02-23 16:55:25      1.000000      1.000000   \n25%    2023-03-08 14:15:59.750000128      1.000000     74.000000   \n50%              2023-03-16 08:22:27      1.000000     75.000000   \n75%       2023-03-23 22:12:31.500000      1.000000    129.000000   \nmax              2023-04-01 17:32:21     99.000000    265.000000   \nstd                              NaN      1.225735     60.481870   \n\n       DOLocationID  passenger_count  trip_distance   fare_amount  \\\ncount  72044.000000     67507.000000   72044.000000  72044.000000   \nmean     137.613556         1.286844      12.449511     17.018203   \nmin        1.000000         0.000000       0.000000   -115.000000   \n25%       74.000000         1.000000       1.100000      9.300000   \n50%      138.000000         1.000000       1.840000     13.500000   \n75%      216.000000         1.000000       3.300000     20.000000   \nmax      265.000000         9.000000   92064.680000    477.000000   \nstd       76.169705         0.923652     641.094653     13.832399   \n\n              extra       mta_tax    tip_amount  tolls_amount  ehail_fee  \\\ncount  72044.000000  72044.000000  72044.000000  72044.000000        0.0   \nmean       0.878109      0.576929      2.157651      0.183268        NaN   \nmin       -5.000000     -0.500000     -1.100000      0.000000        NaN   \n25%        0.000000      0.500000      0.000000      0.000000        NaN   \n50%        0.000000      0.500000      1.600000      0.000000        NaN   \n75%        1.000000      0.500000      3.360000      0.000000        NaN   \nmax       12.500000      4.250000    270.270000     36.050000        NaN   \nstd        1.297642      0.384129      3.136215      1.139159        NaN   \n\n       improvement_surcharge  total_amount  payment_type     trip_type  \\\ncount           72044.000000  72044.000000  67507.000000  67500.000000   \nmean                0.961604     22.292310      1.373680      1.028681   \nmin                -1.000000   -116.000000      1.000000      1.000000   \n25%                 1.000000     12.980000      1.000000      1.000000   \n50%                 1.000000     18.100000      1.000000      1.000000   \n75%                 1.000000     26.730000      2.000000      1.000000   \nmax                 1.000000    478.000000      5.000000      2.000000   \nstd                 0.185185     15.852047      0.512307      0.166911   \n\n       congestion_surcharge  \ncount          67507.000000  \nmean               0.714837  \nmin               -2.750000  \n25%                0.000000  \n50%                0.000000  \n75%                2.750000  \nmax                2.750000  \nstd                1.206435  ",
      "text/html": "<div>\n<style scoped>\n    .dataframe tbody tr th:only-of-type {\n        vertical-align: middle;\n    }\n\n    .dataframe tbody tr th {\n        vertical-align: top;\n    }\n\n    .dataframe thead th {\n        text-align: right;\n    }\n</style>\n<table border=\"1\" class=\"dataframe\">\n  <thead>\n    <tr style=\"text-align: right;\">\n      <th></th>\n      <th>VendorID</th>\n      <th>lpep_pickup_datetime</th>\n      <th>lpep_dropoff_datetime</th>\n      <th>RatecodeID</th>\n      <th>PULocationID</th>\n      <th>DOLocationID</th>\n      <th>passenger_count</th>\n      <th>trip_distance</th>\n      <th>fare_amount</th>\n      <th>extra</th>\n      <th>mta_tax</th>\n      <th>tip_amount</th>\n      <th>tolls_amount</th>\n      <th>ehail_fee</th>\n      <th>improvement_surcharge</th>\n      <th>total_amount</th>\n      <th>payment_type</th>\n      <th>trip_type</th>\n      <th>congestion_surcharge</th>\n    </tr>\n  </thead>\n  <tbody>\n    <tr>\n      <th>count</th>\n      <td>72044.000000</td>\n      <td>72044</td>\n      <td>72044</td>\n      <td>67507.000000</td>\n      <td>72044.000000</td>\n      <td>72044.000000</td>\n      <td>67507.000000</td>\n      <td>72044.000000</td>\n      <td>72044.000000</td>\n      <td>72044.000000</td>\n      <td>72044.000000</td>\n      <td>72044.000000</td>\n      <td>72044.000000</td>\n      <td>0.0</td>\n      <td>72044.000000</td>\n      <td>72044.000000</td>\n      <td>67507.000000</td>\n      <td>67500.000000</td>\n      <td>67507.000000</td>\n    </tr>\n    <tr>\n      <th>mean</th>\n      <td>1.865443</td>\n      <td>2023-03-16 08:02:42.689842432</td>\n      <td>2023-03-16 08:20:56.525747968</td>\n      <td>1.145703</td>\n      <td>98.437413</td>\n      <td>137.613556</td>\n      <td>1.286844</td>\n      <td>12.449511</td>\n      <td>17.018203</td>\n      <td>0.878109</td>\n      <td>0.576929</td>\n      <td>2.157651</td>\n      <td>0.183268</td>\n      <td>NaN</td>\n      <td>0.961604</td>\n      <td>22.292310</td>\n      <td>1.373680</td>\n      <td>1.028681</td>\n      <td>0.714837</td>\n    </tr>\n    <tr>\n      <th>min</th>\n      <td>1.000000</td>\n      <td>2023-02-23 16:46:29</td>\n      <td>2023-02-23 16:55:25</td>\n      <td>1.000000</td>\n      <td>1.000000</td>\n      <td>1.000000</td>\n      <td>0.000000</td>\n      <td>0.000000</td>\n      <td>-115.000000</td>\n      <td>-5.000000</td>\n      <td>-0.500000</td>\n      <td>-1.100000</td>\n      <td>0.000000</td>\n      <td>NaN</td>\n      <td>-1.000000</td>\n      <td>-116.000000</td>\n      <td>1.000000</td>\n      <td>1.000000</td>\n      <td>-2.750000</td>\n    </tr>\n    <tr>\n      <th>25%</th>\n      <td>2.000000</td>\n      <td>2023-03-08 13:55:49.500000</td>\n      <td>2023-03-08 14:15:59.750000128</td>\n      <td>1.000000</td>\n      <td>74.000000</td>\n      <td>74.000000</td>\n      <td>1.000000</td>\n      <td>1.100000</td>\n      <td>9.300000</td>\n      <td>0.000000</td>\n      <td>0.500000</td>\n      <td>0.000000</td>\n      <td>0.000000</td>\n      <td>NaN</td>\n      <td>1.000000</td>\n      <td>12.980000</td>\n      <td>1.000000</td>\n      <td>1.000000</td>\n      <td>0.000000</td>\n    </tr>\n    <tr>\n      <th>50%</th>\n      <td>2.000000</td>\n      <td>2023-03-16 08:05:27.500000</td>\n      <td>2023-03-16 08:22:27</td>\n      <td>1.000000</td>\n      <td>75.000000</td>\n      <td>138.000000</td>\n      <td>1.000000</td>\n      <td>1.840000</td>\n      <td>13.500000</td>\n      <td>0.000000</td>\n      <td>0.500000</td>\n      <td>1.600000</td>\n      <td>0.000000</td>\n      <td>NaN</td>\n      <td>1.000000</td>\n      <td>18.100000</td>\n      <td>1.000000</td>\n      <td>1.000000</td>\n      <td>0.000000</td>\n    </tr>\n    <tr>\n      <th>75%</th>\n      <td>2.000000</td>\n      <td>2023-03-23 21:51:25.500000</td>\n      <td>2023-03-23 22:12:31.500000</td>\n      <td>1.000000</td>\n      <td>129.000000</td>\n      <td>216.000000</td>\n      <td>1.000000</td>\n      <td>3.300000</td>\n      <td>20.000000</td>\n      <td>1.000000</td>\n      <td>0.500000</td>\n      <td>3.360000</td>\n      <td>0.000000</td>\n      <td>NaN</td>\n      <td>1.000000</td>\n      <td>26.730000</td>\n      <td>2.000000</td>\n      <td>1.000000</td>\n      <td>2.750000</td>\n    </tr>\n    <tr>\n      <th>max</th>\n      <td>2.000000</td>\n      <td>2023-04-01 00:09:27</td>\n      <td>2023-04-01 17:32:21</td>\n      <td>99.000000</td>\n      <td>265.000000</td>\n      <td>265.000000</td>\n      <td>9.000000</td>\n      <td>92064.680000</td>\n      <td>477.000000</td>\n      <td>12.500000</td>\n      <td>4.250000</td>\n      <td>270.270000</td>\n      <td>36.050000</td>\n      <td>NaN</td>\n      <td>1.000000</td>\n      <td>478.000000</td>\n      <td>5.000000</td>\n      <td>2.000000</td>\n      <td>2.750000</td>\n    </tr>\n    <tr>\n      <th>std</th>\n      <td>0.341252</td>\n      <td>NaN</td>\n      <td>NaN</td>\n      <td>1.225735</td>\n      <td>60.481870</td>\n      <td>76.169705</td>\n      <td>0.923652</td>\n      <td>641.094653</td>\n      <td>13.832399</td>\n      <td>1.297642</td>\n      <td>0.384129</td>\n      <td>3.136215</td>\n      <td>1.139159</td>\n      <td>NaN</td>\n      <td>0.185185</td>\n      <td>15.852047</td>\n      <td>0.512307</td>\n      <td>0.166911</td>\n      <td>1.206435</td>\n    </tr>\n  </tbody>\n</table>\n</div>"
     },
     "execution_count": 12,
     "metadata": {},
     "output_type": "execute_result"
    }
   ],
   "source": [
    "df.describe()"
   ],
   "metadata": {
    "collapsed": false
   }
  },
  {
   "cell_type": "code",
   "execution_count": null,
   "outputs": [],
   "source": [],
   "metadata": {
    "collapsed": false
   }
  },
  {
   "cell_type": "markdown",
   "source": [
    "\n",
    "\n",
    "## Q2. Metric\n",
    "\n",
    "Let's expand the number of data quality metrics we’d like to monitor! Please add one metric of your choice and a quantile value for the `\"fare_amount\"` column (`quantile=0.5`).\n",
    "\n",
    "Hint: explore evidently metric `ColumnQuantileMetric` (from `evidently.metrics import ColumnQuantileMetric`)\n",
    "\n",
    "What metric did you choose?\n",
    "ColumnQuantileMetric(column_name='fare_amount', quantile=0.5),\n",
    "\n",
    "*class ColumnQuantileMetric(column_name: str, quantile: float)\n",
    "\n",
    "\n",
    "## Q3. Prefect flow\n",
    "\n",
    "Let’s update prefect tasks by giving them nice meaningful names, specifying a number of delays and retries.\n",
    "\n",
    "Hint: use `evidently_metrics_calculation.py` script as a starting point to implement your solution. Check the  prefect docs to check task parameters.\n",
    "\n",
    "What is the correct way of doing that?\n",
    "\n",
    "* `@task(retries_num=2, retry_seconds=5, task_name=\"calculate metrics\")`\n",
    "* `@task(retries_num=2, retry_delay_seconds=5, name=\"calculate metrics\")`\n",
    "* `@task(retries=2, retry_seconds=5, task_name=\"calculate metrics\")`\n",
    "* `@task(retries=2, retry_delay_seconds=5, name=\"calculate metrics\")`     *\n",
    "\n",
    "\n",
    "solution:\n",
    "Prefect doucmentation [task](https://docs.prefect.io/2.10.18/concepts/tasks/)\n",
    "\n",
    "\n",
    "## Q4. Monitoring\n",
    "\n",
    "Let’s start monitoring. Run expanded monitoring for a new batch of data (March 2023).\n",
    "\n",
    "What is the maximum value of metric `quantile = 0.5` on th `\"fare_amount\"` column during March 2023 (calculated daily)?\n",
    "\n",
    "* 10\n",
    "* 12.5\n",
    "* 14   *\n",
    "* 14.8\n",
    "\n",
    "## Q5. Dashboard\n",
    "\n",
    "\n",
    "Finally, let’s add panels with new added metrics to the dashboard. After we customize the  dashboard lets save a dashboard config, so that we can access it later. Hint: click on “Save dashboard” to access JSON configuration of the dashboard. This configuration should be saved locally.\n",
    "\n",
    "Where to place a dashboard config file?\n",
    "\n",
    "* `project_folder` (05-monitoring)\n",
    "* `project_folder/config`  (05-monitoring/config)    *\n",
    "* `project_folder/dashboards`  (05-monitoring/dashboards)\n",
    "* `project_folder/data`  (05-monitoring/data)\n",
    "\n",
    "Solution:\n",
    "config yaml files are saved under config. The json file of dashboards and panels are saved under dashboards.\n",
    "\n",
    "## Submit the results\n",
    "\n",
    "* Submit your results here: https://forms.gle/PJaYeWsnWShAEBF79\n",
    "* You can submit your solution multiple times. In this case, only the last submission will be used\n",
    "* If your answer doesn't match options exactly, select the closest one\n",
    "\n",
    "\n",
    "## Deadline\n",
    "\n",
    "The deadline for submitting is 7 July (Friday), 23:00 CEST (Berlin time).\n",
    "\n",
    "After that, the form will be closed.\n"
   ],
   "metadata": {
    "collapsed": false
   }
  },
  {
   "cell_type": "code",
   "execution_count": null,
   "outputs": [],
   "source": [],
   "metadata": {
    "collapsed": false
   }
  },
  {
   "cell_type": "code",
   "execution_count": null,
   "outputs": [],
   "source": [],
   "metadata": {
    "collapsed": false
   }
  },
  {
   "cell_type": "code",
   "execution_count": null,
   "outputs": [],
   "source": [],
   "metadata": {
    "collapsed": false
   }
  },
  {
   "cell_type": "code",
   "execution_count": null,
   "outputs": [],
   "source": [],
   "metadata": {
    "collapsed": false
   }
  },
  {
   "cell_type": "code",
   "execution_count": null,
   "outputs": [],
   "source": [],
   "metadata": {
    "collapsed": false
   }
  },
  {
   "cell_type": "code",
   "execution_count": null,
   "outputs": [],
   "source": [],
   "metadata": {
    "collapsed": false
   }
  },
  {
   "cell_type": "code",
   "execution_count": null,
   "outputs": [],
   "source": [],
   "metadata": {
    "collapsed": false
   }
  },
  {
   "cell_type": "code",
   "execution_count": null,
   "outputs": [],
   "source": [],
   "metadata": {
    "collapsed": false
   }
  },
  {
   "cell_type": "code",
   "execution_count": null,
   "outputs": [],
   "source": [],
   "metadata": {
    "collapsed": false
   }
  },
  {
   "cell_type": "code",
   "execution_count": null,
   "outputs": [],
   "source": [],
   "metadata": {
    "collapsed": false
   }
  },
  {
   "cell_type": "code",
   "execution_count": null,
   "outputs": [],
   "source": [],
   "metadata": {
    "collapsed": false
   }
  },
  {
   "cell_type": "code",
   "execution_count": null,
   "outputs": [],
   "source": [],
   "metadata": {
    "collapsed": false
   }
  },
  {
   "cell_type": "code",
   "execution_count": null,
   "outputs": [],
   "source": [],
   "metadata": {
    "collapsed": false
   }
  },
  {
   "cell_type": "code",
   "execution_count": null,
   "outputs": [],
   "source": [],
   "metadata": {
    "collapsed": false
   }
  },
  {
   "cell_type": "code",
   "execution_count": null,
   "outputs": [],
   "source": [],
   "metadata": {
    "collapsed": false
   }
  },
  {
   "cell_type": "code",
   "execution_count": 17,
   "outputs": [],
   "source": [
    "with open('model.bin', 'rb') as f_in:\n",
    "    dv, model = pickle.load(f_in)"
   ],
   "metadata": {
    "collapsed": false
   }
  },
  {
   "cell_type": "code",
   "execution_count": 18,
   "outputs": [],
   "source": [
    "df = pd.read_parquet(f\"data/trips_data_{months[0]:02}-{years[0]}_{months[-1]:02}-{years[-1]}.parquet\")\n",
    "\n",
    "categorical = ['PULocationID', 'DOLocationID']\n",
    "\n",
    "df['duration'] = df.tpep_dropoff_datetime - df.tpep_pickup_datetime\n",
    "df['duration'] = df.duration.dt.total_seconds() / 60\n",
    "\n",
    "df = df[(df.duration >= 1) & (df.duration <= 60)].copy()\n",
    "\n",
    "df[categorical] = df[categorical].fillna(-1).astype('int').astype('str')"
   ],
   "metadata": {
    "collapsed": false
   }
  },
  {
   "cell_type": "code",
   "execution_count": 19,
   "outputs": [
    {
     "name": "stdout",
     "output_type": "stream",
     "text": [
      "[18.52778307 23.06578208 33.68635854 ... 11.89045938 15.10268128\n",
      "  9.46059157]\n",
      "5.28140357655334\n"
     ]
    }
   ],
   "source": [
    "dicts = df[categorical].to_dict(orient='records')\n",
    "X_val = dv.transform(dicts)\n",
    "y_pred = model.predict(X_val)\n",
    "\n",
    "print(y_pred)\n",
    "\n",
    "print(y_pred.std())\n"
   ],
   "metadata": {
    "collapsed": false
   }
  },
  {
   "cell_type": "markdown",
   "source": [
    "## Q2. Preparing the output\n",
    "\n",
    "Like in the course videos, we want to prepare the dataframe with the\n",
    "output.\n",
    "\n",
    "First, let’s create an artificial `ride_id` column:\n",
    "\n",
    "``` python\n",
    "df['ride_id'] = f'{year:04d}/{month:02d}_' + df.index.astype('str')\n",
    "```\n",
    "\n",
    "Next, write the ride id and the predictions to a dataframe with results.\n",
    "\n",
    "Save it as parquet:\n",
    "\n",
    "``` python\n",
    "df_result.to_parquet(\n",
    "    output_file,\n",
    "    engine='pyarrow',\n",
    "    compression=None,\n",
    "    index=False\n",
    ")\n",
    "```\n",
    "\n",
    "What’s the size of the output file?\n",
    "\n",
    "-   28M\n",
    "-   38M\n",
    "-   48M\n",
    "-   58M\n",
    "\n",
    "**Note:** Make sure you use the snippet above for saving the file. It\n",
    "should contain only these two columns. For this question, don’t change\n",
    "the dtypes of the columns and use pyarrow, not fastparquet.\n",
    "\n"
   ],
   "metadata": {
    "collapsed": false
   }
  },
  {
   "cell_type": "code",
   "execution_count": 23,
   "outputs": [],
   "source": [
    "df['ride_id'] = f'{year:04d}/{month:02d}_' + df.index.astype('str')"
   ],
   "metadata": {
    "collapsed": false
   }
  },
  {
   "cell_type": "code",
   "execution_count": 24,
   "outputs": [],
   "source": [
    "df_result = pd.DataFrame()\n",
    "df_result['ride_id'] = df['ride_id']\n",
    "df_result['predicted_duration'] = y_pred\n",
    "\n",
    "df_result.to_parquet(\n",
    "    \"output.parquet\",\n",
    "    engine='pyarrow',\n",
    "    compression=None,\n",
    "    index=False\n",
    ")"
   ],
   "metadata": {
    "collapsed": false
   }
  },
  {
   "cell_type": "code",
   "execution_count": 28,
   "outputs": [
    {
     "name": "stdout",
     "output_type": "stream",
     "text": [
      "59994935\n"
     ]
    }
   ],
   "source": [
    "import os\n",
    "\n",
    "file_stats = os.stat(\"output.parquet\")\n",
    "\n",
    "print(file_stats.st_size)"
   ],
   "metadata": {
    "collapsed": false
   }
  },
  {
   "cell_type": "markdown",
   "source": [
    "## Q3. Creating the scoring script\n",
    "\n",
    "Now let’s turn the notebook into a script.\n",
    "\n",
    "Which command you need to execute for that?\n",
    "\n"
   ],
   "metadata": {
    "collapsed": false
   }
  },
  {
   "cell_type": "markdown",
   "source": [
    "jupyter nbconvert --to script starter.ipynb"
   ],
   "metadata": {
    "collapsed": false
   }
  },
  {
   "cell_type": "markdown",
   "source": [
    "## Q4. Virtual environment\n",
    "\n",
    "Now let’s put everything into a virtual environment. We’ll use pipenv\n",
    "for that.\n",
    "\n",
    "Install all the required libraries. Pay attention to the Scikit-Learn\n",
    "version: it should be `scikit-learn==1.2.2`.\n",
    "\n",
    "After installing the libraries, pipenv creates two files: `Pipfile` and\n",
    "`Pipfile.lock`. The `Pipfile.lock` file keeps the hashes of the\n",
    "dependencies we use for the virtual env.\n",
    "\n",
    "What’s the first hash for the Scikit-Learn dependency?\n",
    "\n"
   ],
   "metadata": {
    "collapsed": false
   }
  },
  {
   "cell_type": "code",
   "execution_count": null,
   "outputs": [],
   "source": [
    "pip install pipenv\n",
    "pipenv --version\n",
    "pipenv --python=3.9\n",
    "pipenv install scikit-learn==1.2.2 pandas"
   ],
   "metadata": {
    "collapsed": false
   }
  },
  {
   "cell_type": "markdown",
   "source": [
    "## Q5. Parametrize the script\n",
    "\n",
    "Let’s now make the script configurable via CLI. We’ll create two\n",
    "parameters: year and month.\n",
    "\n",
    "Run the script for March 2022.\n",
    "\n",
    "What’s the mean predicted duration?\n",
    "\n",
    "-   7.76\n",
    "-   12.76\n",
    "-   17.76\n",
    "-   22.76\n",
    "\n",
    "Hint: just add a print statement to your script.\n",
    "\n"
   ],
   "metadata": {
    "collapsed": false
   }
  },
  {
   "cell_type": "markdown",
   "source": [],
   "metadata": {
    "collapsed": false
   }
  },
  {
   "cell_type": "code",
   "execution_count": null,
   "outputs": [],
   "source": [],
   "metadata": {
    "collapsed": false
   }
  },
  {
   "cell_type": "markdown",
   "source": [
    "## Q6. Docker container\n",
    "\n",
    "Finally, we’ll package the script in the docker container. For that,\n",
    "you’ll need to use a base image that we prepared.\n",
    "\n",
    "This is how it looks like:\n",
    "\n",
    "    FROM python:3.10.0-slim\n",
    "\n",
    "    WORKDIR /app\n",
    "    COPY [ \"model2.bin\", \"model.bin\" ]\n",
    "\n",
    "(see [`homework/Dockerfile`](homework/Dockerfile))\n",
    "\n",
    "We pushed it to\n",
    "[`svizor/zoomcamp-model:mlops-3.10.0-slim`](https://hub.docker.com/layers/svizor/zoomcamp-model/mlops-3.10.0-slim/images/sha256-595bf690875f5b9075550b61c609be10f05e6915609ef4ea4ce9797116c99eff?context=repo),\n",
    "which you should use as your base image.\n",
    "\n",
    "That is, this is how your Dockerfile should start:\n",
    "\n",
    "``` docker\n",
    "FROM svizor/zoomcamp-model:mlops-3.10.0-slim\n",
    "\n",
    "# do stuff here\n",
    "```\n",
    "\n",
    "This image already has a pickle file with a dictionary vectorizer and a\n",
    "model. You will need to use them.\n",
    "\n",
    "Important: don’t copy the model to the docker image. You will need to\n",
    "use the pickle file already in the image.\n",
    "\n",
    "Now run the script with docker. What’s the mean predicted duration for\n",
    "April 2022?\n",
    "\n",
    "-   7.92\n",
    "-   12.83\n",
    "-   17.92\n",
    "-   22.83\n",
    "\n",
    "## Bonus: upload the result to the cloud (Not graded)\n",
    "\n",
    "Just printing the mean duration inside the docker image doesn’t seem\n",
    "very practical. Typically, after creating the output file, we upload it\n",
    "to the cloud storage.\n",
    "\n",
    "Modify your code to upload the parquet file to S3/GCS/etc.\n",
    "\n",
    "## Publishing the image to dockerhub\n",
    "\n",
    "This is how we published the image to Docker hub:\n",
    "\n",
    "``` bash\n",
    "docker build -t mlops-zoomcamp-model:v1 .\n",
    "docker tag mlops-zoomcamp-model:v1 svizor/zoomcamp-model:mlops-3.10.0-slim\n",
    "docker push svizor/zoomcamp-model:mlops-3.10.0-slim\n",
    "```"
   ],
   "metadata": {
    "collapsed": false
   }
  },
  {
   "cell_type": "code",
   "execution_count": null,
   "outputs": [],
   "source": [],
   "metadata": {
    "collapsed": false
   }
  },
  {
   "cell_type": "code",
   "execution_count": null,
   "outputs": [],
   "source": [],
   "metadata": {
    "collapsed": false
   }
  },
  {
   "cell_type": "code",
   "execution_count": null,
   "outputs": [],
   "source": [],
   "metadata": {
    "collapsed": false
   }
  }
 ],
 "nbformat": 4,
 "nbformat_minor": 5,
 "metadata": {}
}
