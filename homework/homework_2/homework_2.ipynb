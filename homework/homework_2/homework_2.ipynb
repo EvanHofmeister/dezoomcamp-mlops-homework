{
 "cells": [
  {
   "cell_type": "code",
   "execution_count": null,
   "metadata": {
    "collapsed": true
   },
   "outputs": [],
   "source": []
  },
  {
   "cell_type": "markdown",
   "source": [
    "## Question 1"
   ],
   "metadata": {
    "collapsed": false
   }
  },
  {
   "cell_type": "code",
   "execution_count": 46,
   "outputs": [
    {
     "name": "stdout",
     "output_type": "stream",
     "text": [
      "Requirement already satisfied: mlflow in /Users/evanhofmeister/PycharmProjects/dezoomcamp-mlops-homework/venv/lib/python3.9/site-packages (2.3.2)\r\n",
      "Requirement already satisfied: jupyter in /Users/evanhofmeister/PycharmProjects/dezoomcamp-mlops-homework/venv/lib/python3.9/site-packages (1.0.0)\r\n",
      "Requirement already satisfied: scikit-learn in /Users/evanhofmeister/PycharmProjects/dezoomcamp-mlops-homework/venv/lib/python3.9/site-packages (1.2.2)\r\n",
      "Requirement already satisfied: pandas in /Users/evanhofmeister/PycharmProjects/dezoomcamp-mlops-homework/venv/lib/python3.9/site-packages (2.0.2)\r\n",
      "Requirement already satisfied: seaborn in /Users/evanhofmeister/PycharmProjects/dezoomcamp-mlops-homework/venv/lib/python3.9/site-packages (0.12.2)\r\n",
      "Requirement already satisfied: hyperopt in /Users/evanhofmeister/PycharmProjects/dezoomcamp-mlops-homework/venv/lib/python3.9/site-packages (0.2.7)\r\n",
      "Requirement already satisfied: xgboost in /Users/evanhofmeister/PycharmProjects/dezoomcamp-mlops-homework/venv/lib/python3.9/site-packages (1.7.5)\r\n",
      "Requirement already satisfied: fastparquet in /Users/evanhofmeister/PycharmProjects/dezoomcamp-mlops-homework/venv/lib/python3.9/site-packages (2023.4.0)\r\n",
      "Requirement already satisfied: boto3 in /Users/evanhofmeister/PycharmProjects/dezoomcamp-mlops-homework/venv/lib/python3.9/site-packages (1.26.146)\r\n",
      "Collecting optuna\r\n",
      "  Downloading optuna-3.2.0-py3-none-any.whl (390 kB)\r\n",
      "     |████████████████████████████████| 390 kB 2.6 MB/s            \r\n",
      "\u001B[?25hRequirement already satisfied: cloudpickle<3 in /Users/evanhofmeister/PycharmProjects/dezoomcamp-mlops-homework/venv/lib/python3.9/site-packages (from mlflow) (2.2.1)\r\n",
      "Requirement already satisfied: docker<7,>=4.0.0 in /Users/evanhofmeister/PycharmProjects/dezoomcamp-mlops-homework/venv/lib/python3.9/site-packages (from mlflow) (6.1.3)\r\n",
      "Requirement already satisfied: gitpython<4,>=2.1.0 in /Users/evanhofmeister/PycharmProjects/dezoomcamp-mlops-homework/venv/lib/python3.9/site-packages (from mlflow) (3.1.31)\r\n",
      "Requirement already satisfied: entrypoints<1 in /Users/evanhofmeister/PycharmProjects/dezoomcamp-mlops-homework/venv/lib/python3.9/site-packages (from mlflow) (0.4)\r\n",
      "Requirement already satisfied: gunicorn<21 in /Users/evanhofmeister/PycharmProjects/dezoomcamp-mlops-homework/venv/lib/python3.9/site-packages (from mlflow) (20.1.0)\r\n",
      "Requirement already satisfied: matplotlib<4 in /Users/evanhofmeister/PycharmProjects/dezoomcamp-mlops-homework/venv/lib/python3.9/site-packages (from mlflow) (3.7.1)\r\n",
      "Requirement already satisfied: pyyaml<7,>=5.1 in /Users/evanhofmeister/PycharmProjects/dezoomcamp-mlops-homework/venv/lib/python3.9/site-packages (from mlflow) (6.0)\r\n",
      "Requirement already satisfied: packaging<24 in /Users/evanhofmeister/PycharmProjects/dezoomcamp-mlops-homework/venv/lib/python3.9/site-packages (from mlflow) (23.1)\r\n",
      "Requirement already satisfied: alembic!=1.10.0,<2 in /Users/evanhofmeister/PycharmProjects/dezoomcamp-mlops-homework/venv/lib/python3.9/site-packages (from mlflow) (1.11.1)\r\n",
      "Requirement already satisfied: Flask<3 in /Users/evanhofmeister/PycharmProjects/dezoomcamp-mlops-homework/venv/lib/python3.9/site-packages (from mlflow) (2.3.2)\r\n",
      "Requirement already satisfied: importlib-metadata!=4.7.0,<7,>=3.7.0 in /Users/evanhofmeister/PycharmProjects/dezoomcamp-mlops-homework/venv/lib/python3.9/site-packages (from mlflow) (6.6.0)\r\n",
      "Requirement already satisfied: click<9,>=7.0 in /Users/evanhofmeister/PycharmProjects/dezoomcamp-mlops-homework/venv/lib/python3.9/site-packages (from mlflow) (8.1.3)\r\n",
      "Requirement already satisfied: sqlparse<1,>=0.4.0 in /Users/evanhofmeister/PycharmProjects/dezoomcamp-mlops-homework/venv/lib/python3.9/site-packages (from mlflow) (0.4.4)\r\n",
      "Requirement already satisfied: Jinja2<4,>=2.11 in /Users/evanhofmeister/PycharmProjects/dezoomcamp-mlops-homework/venv/lib/python3.9/site-packages (from mlflow) (3.1.2)\r\n",
      "Requirement already satisfied: querystring-parser<2 in /Users/evanhofmeister/PycharmProjects/dezoomcamp-mlops-homework/venv/lib/python3.9/site-packages (from mlflow) (1.2.4)\r\n",
      "Requirement already satisfied: scipy<2 in /Users/evanhofmeister/PycharmProjects/dezoomcamp-mlops-homework/venv/lib/python3.9/site-packages (from mlflow) (1.10.1)\r\n",
      "Requirement already satisfied: protobuf<5,>=3.12.0 in /Users/evanhofmeister/PycharmProjects/dezoomcamp-mlops-homework/venv/lib/python3.9/site-packages (from mlflow) (4.23.2)\r\n",
      "Requirement already satisfied: numpy<2 in /Users/evanhofmeister/PycharmProjects/dezoomcamp-mlops-homework/venv/lib/python3.9/site-packages (from mlflow) (1.24.3)\r\n",
      "Requirement already satisfied: markdown<4,>=3.3 in /Users/evanhofmeister/PycharmProjects/dezoomcamp-mlops-homework/venv/lib/python3.9/site-packages (from mlflow) (3.4.3)\r\n",
      "Requirement already satisfied: pytz<2024 in /Users/evanhofmeister/PycharmProjects/dezoomcamp-mlops-homework/venv/lib/python3.9/site-packages (from mlflow) (2023.3)\r\n",
      "Requirement already satisfied: sqlalchemy<3,>=1.4.0 in /Users/evanhofmeister/PycharmProjects/dezoomcamp-mlops-homework/venv/lib/python3.9/site-packages (from mlflow) (2.0.15)\r\n",
      "Requirement already satisfied: pyarrow<12,>=4.0.0 in /Users/evanhofmeister/PycharmProjects/dezoomcamp-mlops-homework/venv/lib/python3.9/site-packages (from mlflow) (11.0.0)\r\n",
      "Requirement already satisfied: databricks-cli<1,>=0.8.7 in /Users/evanhofmeister/PycharmProjects/dezoomcamp-mlops-homework/venv/lib/python3.9/site-packages (from mlflow) (0.17.7)\r\n",
      "Requirement already satisfied: requests<3,>=2.17.3 in /Users/evanhofmeister/PycharmProjects/dezoomcamp-mlops-homework/venv/lib/python3.9/site-packages (from mlflow) (2.31.0)\r\n",
      "Requirement already satisfied: ipywidgets in /Users/evanhofmeister/PycharmProjects/dezoomcamp-mlops-homework/venv/lib/python3.9/site-packages (from jupyter) (8.0.6)\r\n",
      "Requirement already satisfied: jupyter-console in /Users/evanhofmeister/PycharmProjects/dezoomcamp-mlops-homework/venv/lib/python3.9/site-packages (from jupyter) (6.6.3)\r\n",
      "Requirement already satisfied: notebook in /Users/evanhofmeister/PycharmProjects/dezoomcamp-mlops-homework/venv/lib/python3.9/site-packages (from jupyter) (6.5.4)\r\n",
      "Requirement already satisfied: nbconvert in /Users/evanhofmeister/PycharmProjects/dezoomcamp-mlops-homework/venv/lib/python3.9/site-packages (from jupyter) (7.4.0)\r\n",
      "Requirement already satisfied: ipykernel in /Users/evanhofmeister/PycharmProjects/dezoomcamp-mlops-homework/venv/lib/python3.9/site-packages (from jupyter) (6.23.1)\r\n",
      "Requirement already satisfied: qtconsole in /Users/evanhofmeister/PycharmProjects/dezoomcamp-mlops-homework/venv/lib/python3.9/site-packages (from jupyter) (5.4.3)\r\n",
      "Requirement already satisfied: joblib>=1.1.1 in /Users/evanhofmeister/PycharmProjects/dezoomcamp-mlops-homework/venv/lib/python3.9/site-packages (from scikit-learn) (1.2.0)\r\n",
      "Requirement already satisfied: threadpoolctl>=2.0.0 in /Users/evanhofmeister/PycharmProjects/dezoomcamp-mlops-homework/venv/lib/python3.9/site-packages (from scikit-learn) (3.1.0)\r\n",
      "Requirement already satisfied: python-dateutil>=2.8.2 in /Users/evanhofmeister/PycharmProjects/dezoomcamp-mlops-homework/venv/lib/python3.9/site-packages (from pandas) (2.8.2)\r\n",
      "Requirement already satisfied: tzdata>=2022.1 in /Users/evanhofmeister/PycharmProjects/dezoomcamp-mlops-homework/venv/lib/python3.9/site-packages (from pandas) (2023.3)\r\n",
      "Requirement already satisfied: future in /Users/evanhofmeister/PycharmProjects/dezoomcamp-mlops-homework/venv/lib/python3.9/site-packages (from hyperopt) (0.18.3)\r\n",
      "Requirement already satisfied: networkx>=2.2 in /Users/evanhofmeister/PycharmProjects/dezoomcamp-mlops-homework/venv/lib/python3.9/site-packages (from hyperopt) (3.1)\r\n",
      "Requirement already satisfied: tqdm in /Users/evanhofmeister/PycharmProjects/dezoomcamp-mlops-homework/venv/lib/python3.9/site-packages (from hyperopt) (4.65.0)\r\n",
      "Requirement already satisfied: six in /Users/evanhofmeister/PycharmProjects/dezoomcamp-mlops-homework/venv/lib/python3.9/site-packages (from hyperopt) (1.16.0)\r\n",
      "Requirement already satisfied: py4j in /Users/evanhofmeister/PycharmProjects/dezoomcamp-mlops-homework/venv/lib/python3.9/site-packages (from hyperopt) (0.10.9.7)\r\n",
      "Requirement already satisfied: cramjam>=2.3 in /Users/evanhofmeister/PycharmProjects/dezoomcamp-mlops-homework/venv/lib/python3.9/site-packages (from fastparquet) (2.6.2)\r\n",
      "Requirement already satisfied: fsspec in /Users/evanhofmeister/PycharmProjects/dezoomcamp-mlops-homework/venv/lib/python3.9/site-packages (from fastparquet) (2023.5.0)\r\n",
      "Requirement already satisfied: botocore<1.30.0,>=1.29.146 in /Users/evanhofmeister/PycharmProjects/dezoomcamp-mlops-homework/venv/lib/python3.9/site-packages (from boto3) (1.29.146)\r\n",
      "Requirement already satisfied: s3transfer<0.7.0,>=0.6.0 in /Users/evanhofmeister/PycharmProjects/dezoomcamp-mlops-homework/venv/lib/python3.9/site-packages (from boto3) (0.6.1)\r\n",
      "Requirement already satisfied: jmespath<2.0.0,>=0.7.1 in /Users/evanhofmeister/PycharmProjects/dezoomcamp-mlops-homework/venv/lib/python3.9/site-packages (from boto3) (1.0.1)\r\n",
      "Collecting cmaes>=0.9.1\r\n",
      "  Downloading cmaes-0.9.1-py3-none-any.whl (21 kB)\r\n",
      "Collecting colorlog\r\n",
      "  Downloading colorlog-6.7.0-py2.py3-none-any.whl (11 kB)\r\n",
      "Requirement already satisfied: Mako in /Users/evanhofmeister/PycharmProjects/dezoomcamp-mlops-homework/venv/lib/python3.9/site-packages (from alembic!=1.10.0,<2->mlflow) (1.2.4)\r\n",
      "Requirement already satisfied: typing-extensions>=4 in /Users/evanhofmeister/PycharmProjects/dezoomcamp-mlops-homework/venv/lib/python3.9/site-packages (from alembic!=1.10.0,<2->mlflow) (4.6.3)\r\n",
      "Requirement already satisfied: urllib3<1.27,>=1.25.4 in /Users/evanhofmeister/PycharmProjects/dezoomcamp-mlops-homework/venv/lib/python3.9/site-packages (from botocore<1.30.0,>=1.29.146->boto3) (1.26.16)\r\n",
      "Requirement already satisfied: tabulate>=0.7.7 in /Users/evanhofmeister/PycharmProjects/dezoomcamp-mlops-homework/venv/lib/python3.9/site-packages (from databricks-cli<1,>=0.8.7->mlflow) (0.9.0)\r\n",
      "Requirement already satisfied: pyjwt>=1.7.0 in /Users/evanhofmeister/PycharmProjects/dezoomcamp-mlops-homework/venv/lib/python3.9/site-packages (from databricks-cli<1,>=0.8.7->mlflow) (2.7.0)\r\n",
      "Requirement already satisfied: oauthlib>=3.1.0 in /Users/evanhofmeister/PycharmProjects/dezoomcamp-mlops-homework/venv/lib/python3.9/site-packages (from databricks-cli<1,>=0.8.7->mlflow) (3.2.2)\r\n",
      "Requirement already satisfied: websocket-client>=0.32.0 in /Users/evanhofmeister/PycharmProjects/dezoomcamp-mlops-homework/venv/lib/python3.9/site-packages (from docker<7,>=4.0.0->mlflow) (1.5.2)\r\n",
      "Requirement already satisfied: Werkzeug>=2.3.3 in /Users/evanhofmeister/PycharmProjects/dezoomcamp-mlops-homework/venv/lib/python3.9/site-packages (from Flask<3->mlflow) (2.3.4)\r\n",
      "Requirement already satisfied: blinker>=1.6.2 in /Users/evanhofmeister/PycharmProjects/dezoomcamp-mlops-homework/venv/lib/python3.9/site-packages (from Flask<3->mlflow) (1.6.2)\r\n",
      "Requirement already satisfied: itsdangerous>=2.1.2 in /Users/evanhofmeister/PycharmProjects/dezoomcamp-mlops-homework/venv/lib/python3.9/site-packages (from Flask<3->mlflow) (2.1.2)\r\n",
      "Requirement already satisfied: gitdb<5,>=4.0.1 in /Users/evanhofmeister/PycharmProjects/dezoomcamp-mlops-homework/venv/lib/python3.9/site-packages (from gitpython<4,>=2.1.0->mlflow) (4.0.10)\r\n",
      "Requirement already satisfied: setuptools>=3.0 in /Users/evanhofmeister/PycharmProjects/dezoomcamp-mlops-homework/venv/lib/python3.9/site-packages (from gunicorn<21->mlflow) (60.2.0)\r\n",
      "Requirement already satisfied: zipp>=0.5 in /Users/evanhofmeister/PycharmProjects/dezoomcamp-mlops-homework/venv/lib/python3.9/site-packages (from importlib-metadata!=4.7.0,<7,>=3.7.0->mlflow) (3.15.0)\r\n",
      "Requirement already satisfied: MarkupSafe>=2.0 in /Users/evanhofmeister/PycharmProjects/dezoomcamp-mlops-homework/venv/lib/python3.9/site-packages (from Jinja2<4,>=2.11->mlflow) (2.1.3)\r\n",
      "Requirement already satisfied: fonttools>=4.22.0 in /Users/evanhofmeister/PycharmProjects/dezoomcamp-mlops-homework/venv/lib/python3.9/site-packages (from matplotlib<4->mlflow) (4.39.4)\r\n",
      "Requirement already satisfied: importlib-resources>=3.2.0 in /Users/evanhofmeister/PycharmProjects/dezoomcamp-mlops-homework/venv/lib/python3.9/site-packages (from matplotlib<4->mlflow) (5.12.0)\r\n",
      "Requirement already satisfied: kiwisolver>=1.0.1 in /Users/evanhofmeister/PycharmProjects/dezoomcamp-mlops-homework/venv/lib/python3.9/site-packages (from matplotlib<4->mlflow) (1.4.4)\r\n",
      "Requirement already satisfied: pillow>=6.2.0 in /Users/evanhofmeister/PycharmProjects/dezoomcamp-mlops-homework/venv/lib/python3.9/site-packages (from matplotlib<4->mlflow) (9.5.0)\r\n",
      "Requirement already satisfied: pyparsing>=2.3.1 in /Users/evanhofmeister/PycharmProjects/dezoomcamp-mlops-homework/venv/lib/python3.9/site-packages (from matplotlib<4->mlflow) (3.0.9)\r\n",
      "Requirement already satisfied: contourpy>=1.0.1 in /Users/evanhofmeister/PycharmProjects/dezoomcamp-mlops-homework/venv/lib/python3.9/site-packages (from matplotlib<4->mlflow) (1.0.7)\r\n",
      "Requirement already satisfied: cycler>=0.10 in /Users/evanhofmeister/PycharmProjects/dezoomcamp-mlops-homework/venv/lib/python3.9/site-packages (from matplotlib<4->mlflow) (0.11.0)\r\n",
      "Requirement already satisfied: idna<4,>=2.5 in /Users/evanhofmeister/PycharmProjects/dezoomcamp-mlops-homework/venv/lib/python3.9/site-packages (from requests<3,>=2.17.3->mlflow) (3.4)\r\n",
      "Requirement already satisfied: charset-normalizer<4,>=2 in /Users/evanhofmeister/PycharmProjects/dezoomcamp-mlops-homework/venv/lib/python3.9/site-packages (from requests<3,>=2.17.3->mlflow) (3.1.0)\r\n",
      "Requirement already satisfied: certifi>=2017.4.17 in /Users/evanhofmeister/PycharmProjects/dezoomcamp-mlops-homework/venv/lib/python3.9/site-packages (from requests<3,>=2.17.3->mlflow) (2023.5.7)\r\n",
      "Requirement already satisfied: greenlet!=0.4.17 in /Users/evanhofmeister/PycharmProjects/dezoomcamp-mlops-homework/venv/lib/python3.9/site-packages (from sqlalchemy<3,>=1.4.0->mlflow) (2.0.2)\r\n",
      "Requirement already satisfied: debugpy>=1.6.5 in /Users/evanhofmeister/PycharmProjects/dezoomcamp-mlops-homework/venv/lib/python3.9/site-packages (from ipykernel->jupyter) (1.6.7)\r\n",
      "Requirement already satisfied: jupyter-client>=6.1.12 in /Users/evanhofmeister/PycharmProjects/dezoomcamp-mlops-homework/venv/lib/python3.9/site-packages (from ipykernel->jupyter) (8.2.0)\r\n",
      "Requirement already satisfied: ipython>=7.23.1 in /Users/evanhofmeister/PycharmProjects/dezoomcamp-mlops-homework/venv/lib/python3.9/site-packages (from ipykernel->jupyter) (8.14.0)\r\n",
      "Requirement already satisfied: jupyter-core!=5.0.*,>=4.12 in /Users/evanhofmeister/PycharmProjects/dezoomcamp-mlops-homework/venv/lib/python3.9/site-packages (from ipykernel->jupyter) (5.3.0)\r\n",
      "Requirement already satisfied: pyzmq>=20 in /Users/evanhofmeister/PycharmProjects/dezoomcamp-mlops-homework/venv/lib/python3.9/site-packages (from ipykernel->jupyter) (25.1.0)\r\n",
      "Requirement already satisfied: appnope in /Users/evanhofmeister/PycharmProjects/dezoomcamp-mlops-homework/venv/lib/python3.9/site-packages (from ipykernel->jupyter) (0.1.3)\r\n",
      "Requirement already satisfied: psutil in /Users/evanhofmeister/PycharmProjects/dezoomcamp-mlops-homework/venv/lib/python3.9/site-packages (from ipykernel->jupyter) (5.9.5)\r\n",
      "Requirement already satisfied: tornado>=6.1 in /Users/evanhofmeister/PycharmProjects/dezoomcamp-mlops-homework/venv/lib/python3.9/site-packages (from ipykernel->jupyter) (6.3.2)\r\n",
      "Requirement already satisfied: nest-asyncio in /Users/evanhofmeister/PycharmProjects/dezoomcamp-mlops-homework/venv/lib/python3.9/site-packages (from ipykernel->jupyter) (1.5.6)\r\n",
      "Requirement already satisfied: comm>=0.1.1 in /Users/evanhofmeister/PycharmProjects/dezoomcamp-mlops-homework/venv/lib/python3.9/site-packages (from ipykernel->jupyter) (0.1.3)\r\n",
      "Requirement already satisfied: traitlets>=5.4.0 in /Users/evanhofmeister/PycharmProjects/dezoomcamp-mlops-homework/venv/lib/python3.9/site-packages (from ipykernel->jupyter) (5.9.0)\r\n",
      "Requirement already satisfied: matplotlib-inline>=0.1 in /Users/evanhofmeister/PycharmProjects/dezoomcamp-mlops-homework/venv/lib/python3.9/site-packages (from ipykernel->jupyter) (0.1.6)\r\n",
      "Requirement already satisfied: widgetsnbextension~=4.0.7 in /Users/evanhofmeister/PycharmProjects/dezoomcamp-mlops-homework/venv/lib/python3.9/site-packages (from ipywidgets->jupyter) (4.0.7)\r\n",
      "Requirement already satisfied: jupyterlab-widgets~=3.0.7 in /Users/evanhofmeister/PycharmProjects/dezoomcamp-mlops-homework/venv/lib/python3.9/site-packages (from ipywidgets->jupyter) (3.0.7)\r\n",
      "Requirement already satisfied: prompt-toolkit>=3.0.30 in /Users/evanhofmeister/PycharmProjects/dezoomcamp-mlops-homework/venv/lib/python3.9/site-packages (from jupyter-console->jupyter) (3.0.38)\r\n",
      "Requirement already satisfied: pygments in /Users/evanhofmeister/PycharmProjects/dezoomcamp-mlops-homework/venv/lib/python3.9/site-packages (from jupyter-console->jupyter) (2.15.1)\r\n",
      "Requirement already satisfied: beautifulsoup4 in /Users/evanhofmeister/PycharmProjects/dezoomcamp-mlops-homework/venv/lib/python3.9/site-packages (from nbconvert->jupyter) (4.12.2)\r\n",
      "Requirement already satisfied: bleach in /Users/evanhofmeister/PycharmProjects/dezoomcamp-mlops-homework/venv/lib/python3.9/site-packages (from nbconvert->jupyter) (6.0.0)\r\n",
      "Requirement already satisfied: jupyterlab-pygments in /Users/evanhofmeister/PycharmProjects/dezoomcamp-mlops-homework/venv/lib/python3.9/site-packages (from nbconvert->jupyter) (0.2.2)\r\n",
      "Requirement already satisfied: pandocfilters>=1.4.1 in /Users/evanhofmeister/PycharmProjects/dezoomcamp-mlops-homework/venv/lib/python3.9/site-packages (from nbconvert->jupyter) (1.5.0)\r\n",
      "Requirement already satisfied: defusedxml in /Users/evanhofmeister/PycharmProjects/dezoomcamp-mlops-homework/venv/lib/python3.9/site-packages (from nbconvert->jupyter) (0.7.1)\r\n",
      "Requirement already satisfied: nbclient>=0.5.0 in /Users/evanhofmeister/PycharmProjects/dezoomcamp-mlops-homework/venv/lib/python3.9/site-packages (from nbconvert->jupyter) (0.8.0)\r\n",
      "Requirement already satisfied: tinycss2 in /Users/evanhofmeister/PycharmProjects/dezoomcamp-mlops-homework/venv/lib/python3.9/site-packages (from nbconvert->jupyter) (1.2.1)\r\n",
      "Requirement already satisfied: mistune<3,>=2.0.3 in /Users/evanhofmeister/PycharmProjects/dezoomcamp-mlops-homework/venv/lib/python3.9/site-packages (from nbconvert->jupyter) (2.0.5)\r\n",
      "Requirement already satisfied: nbformat>=5.1 in /Users/evanhofmeister/PycharmProjects/dezoomcamp-mlops-homework/venv/lib/python3.9/site-packages (from nbconvert->jupyter) (5.9.0)\r\n",
      "Requirement already satisfied: nbclassic>=0.4.7 in /Users/evanhofmeister/PycharmProjects/dezoomcamp-mlops-homework/venv/lib/python3.9/site-packages (from notebook->jupyter) (1.0.0)\r\n",
      "Requirement already satisfied: argon2-cffi in /Users/evanhofmeister/PycharmProjects/dezoomcamp-mlops-homework/venv/lib/python3.9/site-packages (from notebook->jupyter) (21.3.0)\r\n",
      "Requirement already satisfied: Send2Trash>=1.8.0 in /Users/evanhofmeister/PycharmProjects/dezoomcamp-mlops-homework/venv/lib/python3.9/site-packages (from notebook->jupyter) (1.8.2)\r\n",
      "Requirement already satisfied: terminado>=0.8.3 in /Users/evanhofmeister/PycharmProjects/dezoomcamp-mlops-homework/venv/lib/python3.9/site-packages (from notebook->jupyter) (0.17.1)\r\n",
      "Requirement already satisfied: prometheus-client in /Users/evanhofmeister/PycharmProjects/dezoomcamp-mlops-homework/venv/lib/python3.9/site-packages (from notebook->jupyter) (0.17.0)\r\n",
      "Requirement already satisfied: ipython-genutils in /Users/evanhofmeister/PycharmProjects/dezoomcamp-mlops-homework/venv/lib/python3.9/site-packages (from notebook->jupyter) (0.2.0)\r\n",
      "Requirement already satisfied: qtpy>=2.0.1 in /Users/evanhofmeister/PycharmProjects/dezoomcamp-mlops-homework/venv/lib/python3.9/site-packages (from qtconsole->jupyter) (2.3.1)\r\n",
      "Requirement already satisfied: smmap<6,>=3.0.1 in /Users/evanhofmeister/PycharmProjects/dezoomcamp-mlops-homework/venv/lib/python3.9/site-packages (from gitdb<5,>=4.0.1->gitpython<4,>=2.1.0->mlflow) (5.0.0)\r\n",
      "Requirement already satisfied: jedi>=0.16 in /Users/evanhofmeister/PycharmProjects/dezoomcamp-mlops-homework/venv/lib/python3.9/site-packages (from ipython>=7.23.1->ipykernel->jupyter) (0.18.2)\r\n",
      "Requirement already satisfied: decorator in /Users/evanhofmeister/PycharmProjects/dezoomcamp-mlops-homework/venv/lib/python3.9/site-packages (from ipython>=7.23.1->ipykernel->jupyter) (5.1.1)\r\n",
      "Requirement already satisfied: pexpect>4.3 in /Users/evanhofmeister/PycharmProjects/dezoomcamp-mlops-homework/venv/lib/python3.9/site-packages (from ipython>=7.23.1->ipykernel->jupyter) (4.8.0)\r\n",
      "Requirement already satisfied: pickleshare in /Users/evanhofmeister/PycharmProjects/dezoomcamp-mlops-homework/venv/lib/python3.9/site-packages (from ipython>=7.23.1->ipykernel->jupyter) (0.7.5)\r\n",
      "Requirement already satisfied: stack-data in /Users/evanhofmeister/PycharmProjects/dezoomcamp-mlops-homework/venv/lib/python3.9/site-packages (from ipython>=7.23.1->ipykernel->jupyter) (0.6.2)\r\n",
      "Requirement already satisfied: backcall in /Users/evanhofmeister/PycharmProjects/dezoomcamp-mlops-homework/venv/lib/python3.9/site-packages (from ipython>=7.23.1->ipykernel->jupyter) (0.2.0)\r\n",
      "Requirement already satisfied: platformdirs>=2.5 in /Users/evanhofmeister/PycharmProjects/dezoomcamp-mlops-homework/venv/lib/python3.9/site-packages (from jupyter-core!=5.0.*,>=4.12->ipykernel->jupyter) (3.5.1)\r\n",
      "Requirement already satisfied: jupyter-server>=1.8 in /Users/evanhofmeister/PycharmProjects/dezoomcamp-mlops-homework/venv/lib/python3.9/site-packages (from nbclassic>=0.4.7->notebook->jupyter) (2.6.0)\r\n",
      "Requirement already satisfied: notebook-shim>=0.2.3 in /Users/evanhofmeister/PycharmProjects/dezoomcamp-mlops-homework/venv/lib/python3.9/site-packages (from nbclassic>=0.4.7->notebook->jupyter) (0.2.3)\r\n",
      "Requirement already satisfied: fastjsonschema in /Users/evanhofmeister/PycharmProjects/dezoomcamp-mlops-homework/venv/lib/python3.9/site-packages (from nbformat>=5.1->nbconvert->jupyter) (2.17.1)\r\n",
      "Requirement already satisfied: jsonschema>=2.6 in /Users/evanhofmeister/PycharmProjects/dezoomcamp-mlops-homework/venv/lib/python3.9/site-packages (from nbformat>=5.1->nbconvert->jupyter) (4.17.3)\r\n",
      "Requirement already satisfied: wcwidth in /Users/evanhofmeister/PycharmProjects/dezoomcamp-mlops-homework/venv/lib/python3.9/site-packages (from prompt-toolkit>=3.0.30->jupyter-console->jupyter) (0.2.6)\r\n",
      "Requirement already satisfied: ptyprocess in /Users/evanhofmeister/PycharmProjects/dezoomcamp-mlops-homework/venv/lib/python3.9/site-packages (from terminado>=0.8.3->notebook->jupyter) (0.7.0)\r\n",
      "Requirement already satisfied: argon2-cffi-bindings in /Users/evanhofmeister/PycharmProjects/dezoomcamp-mlops-homework/venv/lib/python3.9/site-packages (from argon2-cffi->notebook->jupyter) (21.2.0)\r\n",
      "Requirement already satisfied: soupsieve>1.2 in /Users/evanhofmeister/PycharmProjects/dezoomcamp-mlops-homework/venv/lib/python3.9/site-packages (from beautifulsoup4->nbconvert->jupyter) (2.4.1)\r\n",
      "Requirement already satisfied: webencodings in /Users/evanhofmeister/PycharmProjects/dezoomcamp-mlops-homework/venv/lib/python3.9/site-packages (from bleach->nbconvert->jupyter) (0.5.1)\r\n",
      "Requirement already satisfied: parso<0.9.0,>=0.8.0 in /Users/evanhofmeister/PycharmProjects/dezoomcamp-mlops-homework/venv/lib/python3.9/site-packages (from jedi>=0.16->ipython>=7.23.1->ipykernel->jupyter) (0.8.3)\r\n",
      "Requirement already satisfied: pyrsistent!=0.17.0,!=0.17.1,!=0.17.2,>=0.14.0 in /Users/evanhofmeister/PycharmProjects/dezoomcamp-mlops-homework/venv/lib/python3.9/site-packages (from jsonschema>=2.6->nbformat>=5.1->nbconvert->jupyter) (0.19.3)\r\n",
      "Requirement already satisfied: attrs>=17.4.0 in /Users/evanhofmeister/PycharmProjects/dezoomcamp-mlops-homework/venv/lib/python3.9/site-packages (from jsonschema>=2.6->nbformat>=5.1->nbconvert->jupyter) (23.1.0)\r\n",
      "Requirement already satisfied: overrides in /Users/evanhofmeister/PycharmProjects/dezoomcamp-mlops-homework/venv/lib/python3.9/site-packages (from jupyter-server>=1.8->nbclassic>=0.4.7->notebook->jupyter) (7.3.1)\r\n",
      "Requirement already satisfied: anyio>=3.1.0 in /Users/evanhofmeister/PycharmProjects/dezoomcamp-mlops-homework/venv/lib/python3.9/site-packages (from jupyter-server>=1.8->nbclassic>=0.4.7->notebook->jupyter) (3.7.0)\r\n",
      "Requirement already satisfied: jupyter-server-terminals in /Users/evanhofmeister/PycharmProjects/dezoomcamp-mlops-homework/venv/lib/python3.9/site-packages (from jupyter-server>=1.8->nbclassic>=0.4.7->notebook->jupyter) (0.4.4)\r\n",
      "Requirement already satisfied: jupyter-events>=0.6.0 in /Users/evanhofmeister/PycharmProjects/dezoomcamp-mlops-homework/venv/lib/python3.9/site-packages (from jupyter-server>=1.8->nbclassic>=0.4.7->notebook->jupyter) (0.6.3)\r\n",
      "Requirement already satisfied: cffi>=1.0.1 in /Users/evanhofmeister/PycharmProjects/dezoomcamp-mlops-homework/venv/lib/python3.9/site-packages (from argon2-cffi-bindings->argon2-cffi->notebook->jupyter) (1.15.1)\r\n",
      "Requirement already satisfied: executing>=1.2.0 in /Users/evanhofmeister/PycharmProjects/dezoomcamp-mlops-homework/venv/lib/python3.9/site-packages (from stack-data->ipython>=7.23.1->ipykernel->jupyter) (1.2.0)\r\n",
      "Requirement already satisfied: pure-eval in /Users/evanhofmeister/PycharmProjects/dezoomcamp-mlops-homework/venv/lib/python3.9/site-packages (from stack-data->ipython>=7.23.1->ipykernel->jupyter) (0.2.2)\r\n",
      "Requirement already satisfied: asttokens>=2.1.0 in /Users/evanhofmeister/PycharmProjects/dezoomcamp-mlops-homework/venv/lib/python3.9/site-packages (from stack-data->ipython>=7.23.1->ipykernel->jupyter) (2.2.1)\r\n",
      "Requirement already satisfied: sniffio>=1.1 in /Users/evanhofmeister/PycharmProjects/dezoomcamp-mlops-homework/venv/lib/python3.9/site-packages (from anyio>=3.1.0->jupyter-server>=1.8->nbclassic>=0.4.7->notebook->jupyter) (1.3.0)\r\n",
      "Requirement already satisfied: exceptiongroup in /Users/evanhofmeister/PycharmProjects/dezoomcamp-mlops-homework/venv/lib/python3.9/site-packages (from anyio>=3.1.0->jupyter-server>=1.8->nbclassic>=0.4.7->notebook->jupyter) (1.1.1)\r\n",
      "Requirement already satisfied: pycparser in /Users/evanhofmeister/PycharmProjects/dezoomcamp-mlops-homework/venv/lib/python3.9/site-packages (from cffi>=1.0.1->argon2-cffi-bindings->argon2-cffi->notebook->jupyter) (2.21)\r\n",
      "Requirement already satisfied: rfc3339-validator in /Users/evanhofmeister/PycharmProjects/dezoomcamp-mlops-homework/venv/lib/python3.9/site-packages (from jupyter-events>=0.6.0->jupyter-server>=1.8->nbclassic>=0.4.7->notebook->jupyter) (0.1.4)\r\n",
      "Requirement already satisfied: python-json-logger>=2.0.4 in /Users/evanhofmeister/PycharmProjects/dezoomcamp-mlops-homework/venv/lib/python3.9/site-packages (from jupyter-events>=0.6.0->jupyter-server>=1.8->nbclassic>=0.4.7->notebook->jupyter) (2.0.7)\r\n",
      "Requirement already satisfied: rfc3986-validator>=0.1.1 in /Users/evanhofmeister/PycharmProjects/dezoomcamp-mlops-homework/venv/lib/python3.9/site-packages (from jupyter-events>=0.6.0->jupyter-server>=1.8->nbclassic>=0.4.7->notebook->jupyter) (0.1.1)\r\n",
      "Requirement already satisfied: fqdn in /Users/evanhofmeister/PycharmProjects/dezoomcamp-mlops-homework/venv/lib/python3.9/site-packages (from jsonschema>=2.6->nbformat>=5.1->nbconvert->jupyter) (1.5.1)\r\n",
      "Requirement already satisfied: uri-template in /Users/evanhofmeister/PycharmProjects/dezoomcamp-mlops-homework/venv/lib/python3.9/site-packages (from jsonschema>=2.6->nbformat>=5.1->nbconvert->jupyter) (1.2.0)\r\n",
      "Requirement already satisfied: jsonpointer>1.13 in /Users/evanhofmeister/PycharmProjects/dezoomcamp-mlops-homework/venv/lib/python3.9/site-packages (from jsonschema>=2.6->nbformat>=5.1->nbconvert->jupyter) (2.3)\r\n",
      "Requirement already satisfied: webcolors>=1.11 in /Users/evanhofmeister/PycharmProjects/dezoomcamp-mlops-homework/venv/lib/python3.9/site-packages (from jsonschema>=2.6->nbformat>=5.1->nbconvert->jupyter) (1.13)\r\n",
      "Requirement already satisfied: isoduration in /Users/evanhofmeister/PycharmProjects/dezoomcamp-mlops-homework/venv/lib/python3.9/site-packages (from jsonschema>=2.6->nbformat>=5.1->nbconvert->jupyter) (20.11.0)\r\n",
      "Requirement already satisfied: arrow>=0.15.0 in /Users/evanhofmeister/PycharmProjects/dezoomcamp-mlops-homework/venv/lib/python3.9/site-packages (from isoduration->jsonschema>=2.6->nbformat>=5.1->nbconvert->jupyter) (1.2.3)\r\n",
      "Installing collected packages: colorlog, cmaes, optuna\r\n",
      "Successfully installed cmaes-0.9.1 colorlog-6.7.0 optuna-3.2.0\r\n",
      "\u001B[33mWARNING: You are using pip version 21.3.1; however, version 23.1.2 is available.\r\n",
      "You should consider upgrading via the '/Users/evanhofmeister/PycharmProjects/dezoomcamp-mlops-homework/venv/bin/python -m pip install --upgrade pip' command.\u001B[0m\r\n"
     ]
    }
   ],
   "source": [
    "!pip install mlflow jupyter scikit-learn pandas seaborn hyperopt xgboost fastparquet boto3 optuna"
   ],
   "metadata": {
    "collapsed": false
   }
  },
  {
   "cell_type": "code",
   "execution_count": 4,
   "outputs": [
    {
     "name": "stdout",
     "output_type": "stream",
     "text": [
      "2.3.2\n"
     ]
    }
   ],
   "source": [
    "import mlflow\n",
    "print(mlflow.__version__)"
   ],
   "metadata": {
    "collapsed": false
   }
  },
  {
   "cell_type": "markdown",
   "source": [
    "Answer: 2.3.2"
   ],
   "metadata": {
    "collapsed": false
   },
   "outputs": [
    {
     "name": "stdout",
     "output_type": "stream",
     "text": [
      "2.3.2\n",
      "2.3.2\n"
     ]
    }
   ],
   "execution_count": 3
  },
  {
   "cell_type": "markdown",
   "source": [],
   "metadata": {
    "collapsed": false
   }
  },
  {
   "cell_type": "markdown",
   "source": [
    "## Question 2"
   ],
   "metadata": {
    "collapsed": false
   }
  },
  {
   "cell_type": "code",
   "execution_count": 16,
   "outputs": [],
   "source": [
    "import os\n",
    "!mkdir os.getcwd()+'/data'"
   ],
   "metadata": {
    "collapsed": false
   }
  },
  {
   "cell_type": "code",
   "execution_count": 38,
   "outputs": [
    {
     "name": "stdout",
     "output_type": "stream",
     "text": [
      "--2023-06-04 01:27:17--  https://d37ci6vzurychx.cloudfront.net/trip-data/green_tripdata_2022-01.parquet\r\n",
      "Resolving d37ci6vzurychx.cloudfront.net (d37ci6vzurychx.cloudfront.net)... 13.227.44.79, 13.227.44.50, 13.227.44.193, ...\r\n",
      "Connecting to d37ci6vzurychx.cloudfront.net (d37ci6vzurychx.cloudfront.net)|13.227.44.79|:443... connected.\r\n",
      "HTTP request sent, awaiting response... 200 OK\r\n",
      "Length: 1254291 (1.2M) [binary/octet-stream]\r\n",
      "Saving to: 'data/green_tripdata_2022-01.parquet.1'\r\n",
      "\r\n",
      "green_tripdata_2022 100%[===================>]   1.20M  --.-KB/s    in 0.1s    \r\n",
      "\r\n",
      "2023-06-04 01:27:17 (8.52 MB/s) - 'data/green_tripdata_2022-01.parquet.1' saved [1254291/1254291]\r\n",
      "\r\n",
      "--2023-06-04 01:27:17--  https://d37ci6vzurychx.cloudfront.net/trip-data/green_tripdata_2022-02.parquet\r\n",
      "Resolving d37ci6vzurychx.cloudfront.net (d37ci6vzurychx.cloudfront.net)... 13.227.44.79, 13.227.44.50, 13.227.44.193, ...\r\n",
      "Connecting to d37ci6vzurychx.cloudfront.net (d37ci6vzurychx.cloudfront.net)|13.227.44.79|:443... connected.\r\n",
      "HTTP request sent, awaiting response... 200 OK\r\n",
      "Length: 1428262 (1.4M) [binary/octet-stream]\r\n",
      "Saving to: 'data/green_tripdata_2022-02.parquet.1'\r\n",
      "\r\n",
      "green_tripdata_2022 100%[===================>]   1.36M  --.-KB/s    in 0.1s    \r\n",
      "\r\n",
      "2023-06-04 01:27:18 (9.58 MB/s) - 'data/green_tripdata_2022-02.parquet.1' saved [1428262/1428262]\r\n",
      "\r\n",
      "--2023-06-04 01:27:18--  https://d37ci6vzurychx.cloudfront.net/trip-data/green_tripdata_2022-03.parquet\r\n",
      "Resolving d37ci6vzurychx.cloudfront.net (d37ci6vzurychx.cloudfront.net)... 13.227.44.79, 13.227.44.50, 13.227.44.193, ...\r\n",
      "Connecting to d37ci6vzurychx.cloudfront.net (d37ci6vzurychx.cloudfront.net)|13.227.44.79|:443... connected.\r\n",
      "HTTP request sent, awaiting response... 200 OK\r\n",
      "Length: 1615562 (1.5M) [binary/octet-stream]\r\n",
      "Saving to: 'data/green_tripdata_2022-03.parquet.1'\r\n",
      "\r\n",
      "green_tripdata_2022 100%[===================>]   1.54M  8.46MB/s    in 0.2s    \r\n",
      "\r\n",
      "2023-06-04 01:27:18 (8.46 MB/s) - 'data/green_tripdata_2022-03.parquet.1' saved [1615562/1615562]\r\n",
      "\r\n"
     ]
    }
   ],
   "source": [
    "# Download data\n",
    "!wget -P data https://d37ci6vzurychx.cloudfront.net/trip-data/green_tripdata_2022-01.parquet\n",
    "!wget -P data https://d37ci6vzurychx.cloudfront.net/trip-data/green_tripdata_2022-02.parquet\n",
    "!wget -P data https://d37ci6vzurychx.cloudfront.net/trip-data/green_tripdata_2022-03.parquet"
   ],
   "metadata": {
    "collapsed": false
   }
  },
  {
   "cell_type": "code",
   "execution_count": 40,
   "outputs": [],
   "source": [
    "# Call preprocess script\n",
    "!python preprocess_data.py --raw_data_path data --dest_path ./output\n"
   ],
   "metadata": {
    "collapsed": false
   }
  },
  {
   "cell_type": "code",
   "execution_count": 41,
   "outputs": [
    {
     "data": {
      "text/plain": "153660"
     },
     "execution_count": 41,
     "metadata": {},
     "output_type": "execute_result"
    }
   ],
   "source": [
    "os.stat('output/dv.pkl').st_size"
   ],
   "metadata": {
    "collapsed": false
   }
  },
  {
   "cell_type": "markdown",
   "source": [
    "Answer: 153660 bytes == 154 mega-bytes"
   ],
   "metadata": {
    "collapsed": false
   }
  },
  {
   "cell_type": "markdown",
   "source": [
    "## Question 3"
   ],
   "metadata": {
    "collapsed": false
   }
  },
  {
   "cell_type": "code",
   "execution_count": 50,
   "outputs": [
    {
     "name": "stdout",
     "output_type": "stream",
     "text": [
      "2023/06/04 01:54:32 WARNING mlflow.utils.autologging_utils: MLflow autologging encountered a warning: \"/Users/evanhofmeister/PycharmProjects/dezoomcamp-mlops-homework/venv/lib/python3.9/site-packages/_distutils_hack/__init__.py:36: UserWarning: Setuptools is replacing distutils.\"\r\n"
     ]
    }
   ],
   "source": [
    "!python train.py --data_path ./output"
   ],
   "metadata": {
    "collapsed": false
   }
  },
  {
   "cell_type": "code",
   "execution_count": null,
   "outputs": [
    {
     "name": "stdout",
     "output_type": "stream",
     "text": [
      "[2023-06-04 01:55:12 -0500] [31689] [INFO] Starting gunicorn 20.1.0\r\n",
      "[2023-06-04 01:55:12 -0500] [31689] [INFO] Listening at: http://127.0.0.1:5000 (31689)\r\n",
      "[2023-06-04 01:55:12 -0500] [31689] [INFO] Using worker: sync\r\n",
      "[2023-06-04 01:55:12 -0500] [31690] [INFO] Booting worker with pid: 31690\r\n",
      "[2023-06-04 01:55:12 -0500] [31691] [INFO] Booting worker with pid: 31691\r\n",
      "[2023-06-04 01:55:12 -0500] [31692] [INFO] Booting worker with pid: 31692\r\n",
      "[2023-06-04 01:55:12 -0500] [31693] [INFO] Booting worker with pid: 31693\r\n",
      "[2023-06-04 02:32:03 -0500] [31689] [CRITICAL] WORKER TIMEOUT (pid:31690)\r\n",
      "[2023-06-04 02:32:03 -0500] [31689] [CRITICAL] WORKER TIMEOUT (pid:31691)\r\n",
      "[2023-06-04 02:32:03 -0500] [31689] [CRITICAL] WORKER TIMEOUT (pid:31692)\r\n",
      "[2023-06-04 02:32:03 -0500] [31689] [CRITICAL] WORKER TIMEOUT (pid:31693)\r\n",
      "[2023-06-04 02:32:03 -0500] [31693] [INFO] Worker exiting (pid: 31693)\r\n",
      "[2023-06-04 02:32:03 -0500] [31691] [INFO] Worker exiting (pid: 31691)\r\n",
      "[2023-06-04 02:32:03 -0500] [31690] [INFO] Worker exiting (pid: 31690)\r\n",
      "[2023-06-04 02:32:03 -0500] [31692] [INFO] Worker exiting (pid: 31692)\r\n",
      "[2023-06-04 02:32:04 -0500] [33763] [INFO] Booting worker with pid: 33763\r\n",
      "[2023-06-04 02:32:04 -0500] [33765] [INFO] Booting worker with pid: 33765\r\n",
      "[2023-06-04 02:32:04 -0500] [33766] [INFO] Booting worker with pid: 33766\r\n",
      "[2023-06-04 02:32:04 -0500] [33767] [INFO] Booting worker with pid: 33767\r\n"
     ]
    }
   ],
   "source": [
    "!mlflow ui\n"
   ],
   "metadata": {
    "collapsed": false,
    "pycharm": {
     "is_executing": true
    }
   }
  },
  {
   "cell_type": "code",
   "execution_count": null,
   "outputs": [],
   "source": [
    "import mlflow\n",
    "from mlflow.tracking import MlflowClient\n",
    "\n",
    "client = MlflowClient()\n",
    "\n",
    "# Retrieve the experiment ID from its name.\n",
    "experiment_name = \"random-forest\"\n",
    "experiment = client.get_experiment_by_name(experiment_name)\n",
    "experiment_id = experiment.experiment_id\n",
    "\n",
    "runs = client.search_runs(experiment_ids=[experiment_id])\n",
    "for run in runs:\n",
    "    run_id = run.info.run_id\n",
    "    params = client.get_run(run_id).data.params\n",
    "    max_depth = params.get(\"max_depth\")\n",
    "    print(f\"max_depth for run {run_id}: {max_depth}\")"
   ],
   "metadata": {
    "collapsed": false,
    "pycharm": {
     "is_executing": true
    }
   }
  },
  {
   "cell_type": "markdown",
   "source": [
    "Answer: 10"
   ],
   "metadata": {
    "collapsed": false
   }
  },
  {
   "cell_type": "markdown",
   "source": [
    "## Question 4"
   ],
   "metadata": {
    "collapsed": false
   }
  },
  {
   "cell_type": "code",
   "execution_count": null,
   "outputs": [],
   "source": [
    "!python hpo.py --data_path ./output"
   ],
   "metadata": {
    "collapsed": false,
    "pycharm": {
     "is_executing": true
    }
   }
  },
  {
   "cell_type": "markdown",
   "source": [
    "Answer: 2.45"
   ],
   "metadata": {
    "collapsed": false
   }
  },
  {
   "cell_type": "markdown",
   "source": [
    "## Question 5"
   ],
   "metadata": {
    "collapsed": false
   }
  },
  {
   "cell_type": "code",
   "execution_count": null,
   "outputs": [],
   "source": [
    "!python register_model.py --data_path ./output"
   ],
   "metadata": {
    "collapsed": false
   }
  },
  {
   "cell_type": "markdown",
   "source": [
    "Answer: 2.29"
   ],
   "metadata": {
    "collapsed": false
   }
  },
  {
   "cell_type": "markdown",
   "source": [
    "## Question 6"
   ],
   "metadata": {
    "collapsed": false
   }
  },
  {
   "cell_type": "code",
   "execution_count": null,
   "outputs": [],
   "source": [],
   "metadata": {
    "collapsed": false
   }
  },
  {
   "cell_type": "markdown",
   "source": [
    "Answer: All of the above"
   ],
   "metadata": {
    "collapsed": false
   }
  }
 ],
 "metadata": {
  "kernelspec": {
   "display_name": "Python 3",
   "language": "python",
   "name": "python3"
  },
  "language_info": {
   "codemirror_mode": {
    "name": "ipython",
    "version": 2
   },
   "file_extension": ".py",
   "mimetype": "text/x-python",
   "name": "python",
   "nbconvert_exporter": "python",
   "pygments_lexer": "ipython2",
   "version": "2.7.6"
  }
 },
 "nbformat": 4,
 "nbformat_minor": 0
}
