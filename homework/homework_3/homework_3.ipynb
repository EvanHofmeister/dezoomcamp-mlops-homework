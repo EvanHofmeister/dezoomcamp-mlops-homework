{
 "cells": [
  {
   "cell_type": "markdown",
   "source": [
    "## Question 1"
   ],
   "metadata": {
    "collapsed": false
   }
  },
  {
   "cell_type": "markdown",
   "source": [
    "Answer: @task(retries=3, retry_delay_seconds=2, name=\"Read taxi data\")\n"
   ],
   "metadata": {
    "collapsed": false
   }
  },
  {
   "cell_type": "markdown",
   "source": [],
   "metadata": {
    "collapsed": false
   }
  },
  {
   "cell_type": "markdown",
   "source": [
    "## Question 2"
   ],
   "metadata": {
    "collapsed": false
   }
  },
  {
   "cell_type": "markdown",
   "source": [
    "![test](Cron_Example.png)"
   ],
   "metadata": {
    "collapsed": false
   }
  },
  {
   "cell_type": "markdown",
   "source": [
    "Answer: `0 9 3 * *`"
   ],
   "metadata": {
    "collapsed": false
   }
  },
  {
   "cell_type": "markdown",
   "source": [
    "## Question 3"
   ],
   "metadata": {
    "collapsed": false
   }
  },
  {
   "cell_type": "code",
   "execution_count": 5,
   "outputs": [
    {
     "name": "stdout",
     "output_type": "stream",
     "text": [
      "Collecting package metadata (current_repodata.json): done\r\n",
      "Solving environment: failed with repodata from current_repodata.json, will retry with next repodata source.\r\n",
      "Collecting package metadata (repodata.json): done\r\n",
      "Solving environment: done\r\n",
      "\r\n",
      "## Package Plan ##\r\n",
      "\r\n",
      "  environment location: /Users/evanhofmeister/opt/anaconda3/envs/prefect-ex\r\n",
      "\r\n",
      "  added / updated specs:\r\n",
      "    - python=3.9.12\r\n",
      "\r\n",
      "\r\n",
      "The following NEW packages will be INSTALLED:\r\n",
      "\r\n",
      "  ca-certificates    pkgs/main/osx-64::ca-certificates-2023.05.30-hecd8cb5_0 \r\n",
      "  libcxx             pkgs/main/osx-64::libcxx-14.0.6-h9765a3e_0 \r\n",
      "  libffi             pkgs/main/osx-64::libffi-3.3-hb1e8313_2 \r\n",
      "  ncurses            pkgs/main/osx-64::ncurses-6.4-hcec6c5f_0 \r\n",
      "  openssl            pkgs/main/osx-64::openssl-1.1.1u-hca72f7f_0 \r\n",
      "  pip                pkgs/main/osx-64::pip-23.1.2-py39hecd8cb5_0 \r\n",
      "  python             pkgs/main/osx-64::python-3.9.12-hdfd78df_1 \r\n",
      "  readline           pkgs/main/osx-64::readline-8.2-hca72f7f_0 \r\n",
      "  setuptools         pkgs/main/osx-64::setuptools-67.8.0-py39hecd8cb5_0 \r\n",
      "  sqlite             pkgs/main/osx-64::sqlite-3.41.2-h6c40b1e_0 \r\n",
      "  tk                 pkgs/main/osx-64::tk-8.6.12-h5d9f67b_0 \r\n",
      "  tzdata             pkgs/main/noarch::tzdata-2023c-h04d1e81_0 \r\n",
      "  wheel              pkgs/main/osx-64::wheel-0.38.4-py39hecd8cb5_0 \r\n",
      "  xz                 pkgs/main/osx-64::xz-5.4.2-h6c40b1e_0 \r\n",
      "  zlib               pkgs/main/osx-64::zlib-1.2.13-h4dc903c_0 \r\n",
      "\r\n",
      "\r\n",
      "\r\n",
      "Downloading and Extracting Packages\r\n",
      "\r\n",
      "Preparing transaction: done\r\n",
      "Verifying transaction: done\r\n",
      "Executing transaction: done\r\n",
      "#\r\n",
      "# To activate this environment, use\r\n",
      "#\r\n",
      "#     $ conda activate prefect-ex\r\n",
      "#\r\n",
      "# To deactivate an active environment, use\r\n",
      "#\r\n",
      "#     $ conda deactivate\r\n",
      "\r\n",
      "\r\n",
      "CommandNotFoundError: Your shell has not been properly configured to use 'conda activate'.\r\n",
      "To initialize your shell, run\r\n",
      "\r\n",
      "    $ conda init <SHELL_NAME>\r\n",
      "\r\n",
      "Currently supported shells are:\r\n",
      "  - bash\r\n",
      "  - fish\r\n",
      "  - tcsh\r\n",
      "  - xonsh\r\n",
      "  - zsh\r\n",
      "  - powershell\r\n",
      "\r\n",
      "See 'conda init --help' for more information and options.\r\n",
      "\r\n",
      "IMPORTANT: You may need to close and restart your shell after running 'conda init'.\r\n",
      "\r\n",
      "\r\n"
     ]
    }
   ],
   "source": [
    "!mkdir hw3_Orchestrate\n",
    "!cd hw3_Orchestrate\n",
    "!conda create -n prefect-ex python=3.9.12 -y\n",
    "!conda activate prefect-ex"
   ],
   "metadata": {
    "collapsed": false
   }
  },
  {
   "cell_type": "code",
   "execution_count": null,
   "outputs": [],
   "source": [
    "!git clone git@github.com:boisalai/mlops-zoomcamp.git\n",
    "!cd mlops-zoomcamp\n",
    "!conda activate prefect-ops\n",
    "!pip install -r 03-orchestration/requirements.txt"
   ],
   "metadata": {
    "collapsed": false
   }
  },
  {
   "cell_type": "code",
   "execution_count": 7,
   "outputs": [
    {
     "name": "stdout",
     "output_type": "stream",
     "text": [
      "mkdir: data: File exists\r\n",
      "--2023-06-19 00:41:00--  https://d37ci6vzurychx.cloudfront.net/trip-data/green_tripdata_2023-01.parquet\r\n",
      "Resolving d37ci6vzurychx.cloudfront.net (d37ci6vzurychx.cloudfront.net)... 13.249.90.181, 13.249.90.174, 13.249.90.209, ...\r\n",
      "Connecting to d37ci6vzurychx.cloudfront.net (d37ci6vzurychx.cloudfront.net)|13.249.90.181|:443... connected.\r\n",
      "HTTP request sent, awaiting response... 200 OK\r\n",
      "Length: 1427002 (1.4M) [binary/octet-stream]\r\n",
      "Saving to: './data/green_tripdata_2023-01.parquet.1'\r\n",
      "\r\n",
      "green_tripdata_2023 100%[===================>]   1.36M  4.30MB/s    in 0.3s    \r\n",
      "\r\n",
      "2023-06-19 00:41:01 (4.30 MB/s) - './data/green_tripdata_2023-01.parquet.1' saved [1427002/1427002]\r\n",
      "\r\n",
      "--2023-06-19 00:41:01--  https://d37ci6vzurychx.cloudfront.net/trip-data/green_tripdata_2023-02.parquet\r\n",
      "Resolving d37ci6vzurychx.cloudfront.net (d37ci6vzurychx.cloudfront.net)... 13.249.90.174, 13.249.90.209, 13.249.90.176, ...\r\n",
      "Connecting to d37ci6vzurychx.cloudfront.net (d37ci6vzurychx.cloudfront.net)|13.249.90.174|:443... connected.\r\n",
      "HTTP request sent, awaiting response... 200 OK\r\n",
      "Length: 1533740 (1.5M) [binary/octet-stream]\r\n",
      "Saving to: './data/green_tripdata_2023-02.parquet.1'\r\n",
      "\r\n",
      "green_tripdata_2023 100%[===================>]   1.46M  3.60MB/s    in 0.4s    \r\n",
      "\r\n",
      "2023-06-19 00:41:02 (3.60 MB/s) - './data/green_tripdata_2023-02.parquet.1' saved [1533740/1533740]\r\n",
      "\r\n"
     ]
    }
   ],
   "source": [
    "!cd hw3_Orchestrate\n",
    "!mkdir data\n",
    "!wget -P ./data https://d37ci6vzurychx.cloudfront.net/trip-data/green_tripdata_2023-01.parquet\n",
    "!wget -P ./data https://d37ci6vzurychx.cloudfront.net/trip-data/green_tripdata_2023-02.parquet"
   ],
   "metadata": {
    "collapsed": false
   }
  },
  {
   "cell_type": "code",
   "execution_count": null,
   "outputs": [],
   "source": [],
   "metadata": {
    "collapsed": false
   }
  },
  {
   "cell_type": "markdown",
   "source": [
    "Answer: 5.19931"
   ],
   "metadata": {
    "collapsed": false
   }
  },
  {
   "cell_type": "markdown",
   "source": [],
   "metadata": {
    "collapsed": false
   }
  },
  {
   "cell_type": "markdown",
   "source": [
    "## Question 4"
   ],
   "metadata": {
    "collapsed": false
   }
  },
  {
   "cell_type": "markdown",
   "source": [
    "Answer: 5.37"
   ],
   "metadata": {
    "collapsed": false
   }
  },
  {
   "cell_type": "markdown",
   "source": [],
   "metadata": {
    "collapsed": false
   }
  },
  {
   "cell_type": "markdown",
   "source": [
    "## Question 5"
   ],
   "metadata": {
    "collapsed": false
   }
  },
  {
   "cell_type": "markdown",
   "source": [
    "Answer: email_send_message"
   ],
   "metadata": {
    "collapsed": false
   }
  },
  {
   "cell_type": "markdown",
   "source": [],
   "metadata": {
    "collapsed": false
   }
  },
  {
   "cell_type": "markdown",
   "source": [
    "## Question 6"
   ],
   "metadata": {
    "collapsed": false
   }
  },
  {
   "cell_type": "markdown",
   "source": [
    "Answer: Actions"
   ],
   "metadata": {
    "collapsed": false
   }
  },
  {
   "cell_type": "markdown",
   "source": [],
   "metadata": {
    "collapsed": false
   }
  }
 ],
 "metadata": {
  "kernelspec": {
   "display_name": "Python 3",
   "language": "python",
   "name": "python3"
  },
  "language_info": {
   "codemirror_mode": {
    "name": "ipython",
    "version": 2
   },
   "file_extension": ".py",
   "mimetype": "text/x-python",
   "name": "python",
   "nbconvert_exporter": "python",
   "pygments_lexer": "ipython2",
   "version": "2.7.6"
  }
 },
 "nbformat": 4,
 "nbformat_minor": 0
}
