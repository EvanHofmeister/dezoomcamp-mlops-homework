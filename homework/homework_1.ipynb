{
 "cells": [
  {
   "cell_type": "code",
   "execution_count": 133,
   "id": "688d9e21",
   "metadata": {},
   "outputs": [],
   "source": [
    "import pandas as pd\n",
    "import numpy as np\n",
    "import pickle\n",
    "import seaborn as sns\n",
    "import matplotlib.pyplot as plt\n",
    "from pathlib import Path\n",
    "\n",
    "#sklearn\n",
    "from sklearn.feature_extraction import DictVectorizer\n",
    "from sklearn.linear_model import LinearRegression\n",
    "from sklearn.linear_model import Lasso\n",
    "from sklearn.linear_model import Ridge\n",
    "from sklearn.metrics import mean_squared_error"
   ]
  },
  {
   "cell_type": "markdown",
   "id": "47f55aa1",
   "metadata": {},
   "source": [
    "## Fetch data and write local copy of df"
   ]
  },
  {
   "cell_type": "code",
   "execution_count": 134,
   "id": "64f2c3a2",
   "metadata": {},
   "outputs": [],
   "source": [
    "def fetch(dataset_url: str) -> pd.DataFrame:\n",
    "    print(dataset_url)\n",
    "    # df = pd.read_csv(dataset_url, compression='gzip')\n",
    "    df = pd.read_parquet(dataset_url)\n",
    "    return df"
   ]
  },
  {
   "cell_type": "code",
   "execution_count": 135,
   "id": "638c10ae",
   "metadata": {},
   "outputs": [],
   "source": [
    "def save_to_file(path):\n",
    "    path = Path(f\"{path}/trips_data_{months[0]:02}-{years[0]}_{months[-1]:02}-{years[-1]}.parquet\")\n",
    "    if not path.parent.is_dir():\n",
    "        path.parent.mkdir(parents=True)\n",
    "    path = Path(path).as_posix()\n",
    "    df.to_parquet(path, compression=\"gzip\")\n",
    "    print(f\"data saved to file: {path}\")"
   ]
  },
  {
   "cell_type": "code",
   "execution_count": 136,
   "id": "03ed07a1",
   "metadata": {},
   "outputs": [],
   "source": [
    "colors = [\"yellow\"]\n",
    "months = [1,2]\n",
    "years = [2022]"
   ]
  },
  {
   "cell_type": "code",
   "execution_count": 137,
   "id": "2c471061",
   "metadata": {},
   "outputs": [
    {
     "name": "stdout",
     "output_type": "stream",
     "text": [
      "https://d37ci6vzurychx.cloudfront.net/trip-data/yellow_tripdata_2022-01.parquet\n",
      "https://d37ci6vzurychx.cloudfront.net/trip-data/yellow_tripdata_2022-02.parquet\n",
      "data saved to file: data/trips_data_01-2022_02-2022.parquet\n"
     ]
    }
   ],
   "source": [
    "df = pd.DataFrame()\n",
    "for color in colors:\n",
    "    for month in months:\n",
    "        for year in years:\n",
    "            url = f\"https://d37ci6vzurychx.cloudfront.net/trip-data/{color}_tripdata_{year}-{month:02}.parquet\"\n",
    "    \n",
    "            df = pd.concat([df, fetch(url)], ignore_index=True)\n",
    "    \n",
    "save_to_file(\"data\")   \n",
    "    "
   ]
  },
  {
   "cell_type": "markdown",
   "id": "bb67a6de",
   "metadata": {},
   "source": [
    "## Q1"
   ]
  },
  {
   "cell_type": "code",
   "execution_count": 139,
   "id": "4715a785",
   "metadata": {},
   "outputs": [
    {
     "data": {
      "text/plain": [
       "19"
      ]
     },
     "execution_count": 139,
     "metadata": {},
     "output_type": "execute_result"
    }
   ],
   "source": [
    "np.shape(df)[1]"
   ]
  },
  {
   "cell_type": "markdown",
   "id": "f095110c",
   "metadata": {},
   "source": [
    "## Q2"
   ]
  },
  {
   "cell_type": "code",
   "execution_count": 141,
   "id": "6f15e806",
   "metadata": {},
   "outputs": [],
   "source": [
    "df['duration'] = df.tpep_dropoff_datetime - df.tpep_pickup_datetime\n",
    "df.duration = df.duration.apply(lambda td: td.total_seconds() / 60)"
   ]
  },
  {
   "cell_type": "code",
   "execution_count": 142,
   "id": "b5243fa5",
   "metadata": {},
   "outputs": [],
   "source": [
    "df_jan = df.loc[df.tpep_pickup_datetime.dt.month == 1]\n",
    "df_feb = df.loc[df.tpep_pickup_datetime.dt.month == 2]"
   ]
  },
  {
   "cell_type": "code",
   "execution_count": 143,
   "id": "ba78f449",
   "metadata": {},
   "outputs": [
    {
     "data": {
      "text/plain": [
       "46.435820115105685"
      ]
     },
     "execution_count": 143,
     "metadata": {},
     "output_type": "execute_result"
    }
   ],
   "source": [
    "df_jan.duration.std()"
   ]
  },
  {
   "cell_type": "markdown",
   "id": "22b63554",
   "metadata": {},
   "source": [
    "## Q3"
   ]
  },
  {
   "cell_type": "code",
   "execution_count": 145,
   "id": "6afe3582",
   "metadata": {},
   "outputs": [
    {
     "name": "stderr",
     "output_type": "stream",
     "text": [
      "/var/folders/ky/q3hm5s6d2zvc5yqjvr_3q9tm0000gn/T/ipykernel_68265/561556350.py:1: UserWarning: \n",
      "\n",
      "`distplot` is a deprecated function and will be removed in seaborn v0.14.0.\n",
      "\n",
      "Please adapt your code to use either `displot` (a figure-level function with\n",
      "similar flexibility) or `histplot` (an axes-level function for histograms).\n",
      "\n",
      "For a guide to updating your code to use the new functions, please see\n",
      "https://gist.github.com/mwaskom/de44147ed2974457ad6372750bbe5751\n",
      "\n",
      "  sns.distplot(df_jan.duration, label='duration')\n"
     ]
    },
    {
     "data": {
      "text/plain": [
       "<matplotlib.legend.Legend at 0x7fc530491be0>"
      ]
     },
     "execution_count": 145,
     "metadata": {},
     "output_type": "execute_result"
    },
    {
     "data": {
      "image/png": "[encoded data removed]",
      "text/plain": [
       "<Figure size 640x480 with 1 Axes>"
      ]
     },
     "metadata": {},
     "output_type": "display_data"
    }
   ],
   "source": [
    "sns.distplot(df_jan.duration, label='duration')\n",
    "plt.legend()"
   ]
  },
  {
   "cell_type": "code",
   "execution_count": 146,
   "id": "98e641ae",
   "metadata": {},
   "outputs": [],
   "source": [
    "before = np.shape(df_jan)"
   ]
  },
  {
   "cell_type": "code",
   "execution_count": 147,
   "id": "7038413e",
   "metadata": {},
   "outputs": [],
   "source": [
    "# drop outliers\n",
    "\n",
    "df_jan = df_jan[(df_jan.duration >= 1) & (df_jan.duration <= 60)]"
   ]
  },
  {
   "cell_type": "code",
   "execution_count": 148,
   "id": "344bd100",
   "metadata": {},
   "outputs": [
    {
     "name": "stderr",
     "output_type": "stream",
     "text": [
      "/var/folders/ky/q3hm5s6d2zvc5yqjvr_3q9tm0000gn/T/ipykernel_68265/1350875215.py:1: UserWarning: \n",
      "\n",
      "`distplot` is a deprecated function and will be removed in seaborn v0.14.0.\n",
      "\n",
      "Please adapt your code to use either `displot` (a figure-level function with\n",
      "similar flexibility) or `histplot` (an axes-level function for histograms).\n",
      "\n",
      "For a guide to updating your code to use the new functions, please see\n",
      "https://gist.github.com/mwaskom/de44147ed2974457ad6372750bbe5751\n",
      "\n",
      "  sns.distplot(df_jan.duration, label='duration')\n"
     ]
    },
    {
     "data": {
      "text/plain": [
       "<matplotlib.legend.Legend at 0x7fc530a08430>"
      ]
     },
     "execution_count": 148,
     "metadata": {},
     "output_type": "execute_result"
    },
    {
     "data": {
      "image/png": "[encoded data removed]",
      "text/plain": [
       "<Figure size 640x480 with 1 Axes>"
      ]
     },
     "metadata": {},
     "output_type": "display_data"
    }
   ],
   "source": [
    "sns.distplot(df_jan.duration, label='duration')\n",
    "plt.legend()\n"
   ]
  },
  {
   "cell_type": "code",
   "execution_count": 149,
   "id": "37fb8e40",
   "metadata": {},
   "outputs": [],
   "source": [
    "after = np.shape(df_jan)"
   ]
  },
  {
   "cell_type": "code",
   "execution_count": 150,
   "id": "960b7e36",
   "metadata": {},
   "outputs": [
    {
     "name": "stdout",
     "output_type": "stream",
     "text": [
      "Percent of records left after dropping outliers: 98.2755079926%\n"
     ]
    }
   ],
   "source": [
    "percent_change = after[0]/before[0]\n",
    "\n",
    "\n",
    "print(f\"Percent of records left after dropping outliers: {(percent_change)*100:.10f}%\")"
   ]
  },
  {
   "cell_type": "markdown",
   "id": "a96b2043",
   "metadata": {},
   "source": [
    "## Q4"
   ]
  },
  {
   "cell_type": "code",
   "execution_count": 153,
   "id": "6ec5aa6b",
   "metadata": {},
   "outputs": [],
   "source": [
    "categorical = ['PULocationID', 'DOLocationID']\n",
    "dict_features = df_jan[categorical].astype(str).to_dict(orient=\"records\")\n",
    "\n",
    "dv = DictVectorizer()\n",
    "X_train = dv.fit_transform(dict_features)"
   ]
  },
  {
   "cell_type": "code",
   "execution_count": 154,
   "id": "06436742",
   "metadata": {},
   "outputs": [
    {
     "data": {
      "text/plain": [
       "<2421424x515 sparse matrix of type '<class 'numpy.float64'>'\n",
       "\twith 4842848 stored elements in Compressed Sparse Row format>"
      ]
     },
     "execution_count": 154,
     "metadata": {},
     "output_type": "execute_result"
    }
   ],
   "source": [
    "X_train"
   ]
  },
  {
   "cell_type": "markdown",
   "id": "db8556f5",
   "metadata": {},
   "source": [
    "## Q5"
   ]
  },
  {
   "cell_type": "code",
   "execution_count": 155,
   "id": "812de96c",
   "metadata": {},
   "outputs": [
    {
     "data": {
      "text/plain": [
       "LinearRegression()"
      ]
     },
     "execution_count": 155,
     "metadata": {},
     "output_type": "execute_result"
    }
   ],
   "source": [
    "target = 'duration'\n",
    "y_train = df_jan[target].values\n",
    "\n",
    "lr = LinearRegression()\n",
    "lr.fit(X_train, y_train)"
   ]
  },
  {
   "cell_type": "code",
   "execution_count": 156,
   "id": "7220603a",
   "metadata": {},
   "outputs": [
    {
     "data": {
      "text/plain": [
       "6.98623984405811"
      ]
     },
     "execution_count": 156,
     "metadata": {},
     "output_type": "execute_result"
    }
   ],
   "source": [
    "y_pred = lr.predict(X_train)\n",
    "mean_squared_error(y_train, y_pred, squared=False)"
   ]
  },
  {
   "cell_type": "markdown",
   "id": "51294caa",
   "metadata": {},
   "source": [
    "## Q6"
   ]
  },
  {
   "cell_type": "code",
   "execution_count": 167,
   "id": "4aa392fc",
   "metadata": {},
   "outputs": [
    {
     "name": "stderr",
     "output_type": "stream",
     "text": [
      "/var/folders/ky/q3hm5s6d2zvc5yqjvr_3q9tm0000gn/T/ipykernel_68265/4076143515.py:1: SettingWithCopyWarning: \n",
      "A value is trying to be set on a copy of a slice from a DataFrame.\n",
      "Try using .loc[row_indexer,col_indexer] = value instead\n",
      "\n",
      "See the caveats in the documentation: https://pandas.pydata.org/pandas-docs/stable/user_guide/indexing.html#returning-a-view-versus-a-copy\n",
      "  df_feb['duration'] = (df_feb.tpep_dropoff_datetime - df_feb.tpep_pickup_datetime).dt.total_seconds() / 60\n"
     ]
    }
   ],
   "source": [
    "df_feb['duration'] = (df_feb.tpep_dropoff_datetime - df_feb.tpep_pickup_datetime).dt.total_seconds() / 60\n",
    "\n",
    "df_feb = df_feb[(df_feb.duration >= 1) & (df_feb.duration <= 60)]\n"
   ]
  },
  {
   "cell_type": "code",
   "execution_count": 168,
   "id": "375ddc02",
   "metadata": {},
   "outputs": [],
   "source": [
    "valid_dicts = df_feb[categorical].astype(\"str\").to_dict(orient=\"records\")\n",
    "X_valid = dv.transform(valid_dicts)"
   ]
  },
  {
   "cell_type": "code",
   "execution_count": 169,
   "id": "8d41404d",
   "metadata": {},
   "outputs": [
    {
     "data": {
      "text/plain": [
       "<2918139x515 sparse matrix of type '<class 'numpy.float64'>'\n",
       "\twith 5836272 stored elements in Compressed Sparse Row format>"
      ]
     },
     "execution_count": 169,
     "metadata": {},
     "output_type": "execute_result"
    }
   ],
   "source": [
    "X_valid"
   ]
  },
  {
   "cell_type": "code",
   "execution_count": 170,
   "id": "30e819bf",
   "metadata": {},
   "outputs": [],
   "source": [
    "y_valid = df_feb[\"duration\"]"
   ]
  },
  {
   "cell_type": "code",
   "execution_count": 171,
   "id": "86deecdf",
   "metadata": {},
   "outputs": [
    {
     "data": {
      "text/plain": [
       "7.786410791128365"
      ]
     },
     "execution_count": 171,
     "metadata": {},
     "output_type": "execute_result"
    }
   ],
   "source": [
    "y_pred = lr.predict(X_valid)\n",
    "mean_squared_error(y_valid, y_pred, squared=False)"
   ]
  }
 ],
 "metadata": {
  "kernelspec": {
   "display_name": "Python 3 (ipykernel)",
   "language": "python",
   "name": "python3"
  },
  "language_info": {
   "codemirror_mode": {
    "name": "ipython",
    "version": 3
   },
   "file_extension": ".py",
   "mimetype": "text/x-python",
   "name": "python",
   "nbconvert_exporter": "python",
   "pygments_lexer": "ipython3",
   "version": "3.9.13"
  }
 },
 "nbformat": 4,
 "nbformat_minor": 5
}
