{
 "cells": [
  {
   "cell_type": "markdown",
   "metadata": {},
   "source": [
    "## Homework\n",
    "\n",
    "In this homework, we’ll deploy the ride duration model in batch mode.\n",
    "Like in homework 1, we’ll use the Yellow Taxi Trip Records dataset.\n",
    "\n",
    "You’ll find the starter code in the [homework](homework) directory.\n",
    "\n"
   ],
   "id": "b24b3851-6e8e-4985-af9a-2c6e9a0341a2"
  },
  {
   "cell_type": "code",
   "execution_count": 20,
   "outputs": [],
   "source": [
    "import pandas as pd\n",
    "import numpy as np\n",
    "import pickle\n",
    "import seaborn as sns\n",
    "import matplotlib.pyplot as plt\n",
    "from pathlib import Path\n",
    "\n",
    "#sklearn\n",
    "from sklearn.feature_extraction import DictVectorizer\n",
    "from sklearn.linear_model import LinearRegression\n",
    "from sklearn.linear_model import Lasso\n",
    "from sklearn.linear_model import Ridge\n",
    "from sklearn.metrics import mean_squared_error"
   ],
   "metadata": {
    "collapsed": false
   }
  },
  {
   "cell_type": "markdown",
   "source": [
    "## Q1. Notebook\n",
    "\n",
    "We’ll start with the same notebook we ended up with in homework 1. We\n",
    "cleaned it a little bit and kept only the scoring part. You can find the\n",
    "initial notebook [here](homework/starter.ipynb).\n",
    "\n",
    "Run this notebook for the February 2022 data.\n",
    "\n",
    "What’s the standard deviation of the predicted duration for this\n",
    "dataset?\n",
    "\n",
    "-   5.28\n",
    "-   10.28\n",
    "-   15.28\n",
    "-   20.28\n",
    "\n"
   ],
   "metadata": {
    "collapsed": false
   }
  },
  {
   "cell_type": "code",
   "execution_count": 4,
   "outputs": [],
   "source": [
    "def fetch(dataset_url: str) -> pd.DataFrame:\n",
    "    print(dataset_url)\n",
    "    # df = pd.read_csv(dataset_url, compression='gzip')\n",
    "    df = pd.read_parquet(dataset_url)\n",
    "    return df"
   ],
   "metadata": {
    "collapsed": false
   }
  },
  {
   "cell_type": "code",
   "execution_count": 5,
   "outputs": [],
   "source": [
    "def save_to_file(path):\n",
    "    path = Path(f\"{path}/trips_data_{months[0]:02}-{years[0]}_{months[-1]:02}-{years[-1]}.parquet\")\n",
    "    if not path.parent.is_dir():\n",
    "        path.parent.mkdir(parents=True)\n",
    "    path = Path(path).as_posix()\n",
    "    df.to_parquet(path, compression=\"gzip\")\n",
    "    print(f\"data saved to file: {path}\")"
   ],
   "metadata": {
    "collapsed": false
   }
  },
  {
   "cell_type": "code",
   "execution_count": 9,
   "outputs": [],
   "source": [
    "colors = [\"yellow\"]\n",
    "months = [2]\n",
    "years = [2022]"
   ],
   "metadata": {
    "collapsed": false
   }
  },
  {
   "cell_type": "code",
   "execution_count": 7,
   "outputs": [
    {
     "name": "stdout",
     "output_type": "stream",
     "text": [
      "https://d37ci6vzurychx.cloudfront.net/trip-data/yellow_tripdata_2022-02.parquet\n",
      "data saved to file: data/trips_data_02-2022_02-2022.parquet\n"
     ]
    }
   ],
   "source": [
    "df = pd.DataFrame()\n",
    "for color in colors:\n",
    "    for month in months:\n",
    "        for year in years:\n",
    "            url = f\"https://d37ci6vzurychx.cloudfront.net/trip-data/{color}_tripdata_{year}-{month:02}.parquet\"\n",
    "\n",
    "            df = pd.concat([df, fetch(url)], ignore_index=True)\n",
    "\n",
    "save_to_file(\"data\")\n"
   ],
   "metadata": {
    "collapsed": false
   }
  },
  {
   "cell_type": "code",
   "execution_count": 17,
   "outputs": [],
   "source": [
    "with open('model.bin', 'rb') as f_in:\n",
    "    dv, model = pickle.load(f_in)"
   ],
   "metadata": {
    "collapsed": false
   }
  },
  {
   "cell_type": "code",
   "execution_count": 18,
   "outputs": [],
   "source": [
    "df = pd.read_parquet(f\"data/trips_data_{months[0]:02}-{years[0]}_{months[-1]:02}-{years[-1]}.parquet\")\n",
    "\n",
    "categorical = ['PULocationID', 'DOLocationID']\n",
    "\n",
    "df['duration'] = df.tpep_dropoff_datetime - df.tpep_pickup_datetime\n",
    "df['duration'] = df.duration.dt.total_seconds() / 60\n",
    "\n",
    "df = df[(df.duration >= 1) & (df.duration <= 60)].copy()\n",
    "\n",
    "df[categorical] = df[categorical].fillna(-1).astype('int').astype('str')"
   ],
   "metadata": {
    "collapsed": false
   }
  },
  {
   "cell_type": "code",
   "execution_count": 19,
   "outputs": [
    {
     "name": "stdout",
     "output_type": "stream",
     "text": [
      "[18.52778307 23.06578208 33.68635854 ... 11.89045938 15.10268128\n",
      "  9.46059157]\n",
      "5.28140357655334\n"
     ]
    }
   ],
   "source": [
    "dicts = df[categorical].to_dict(orient='records')\n",
    "X_val = dv.transform(dicts)\n",
    "y_pred = model.predict(X_val)\n",
    "\n",
    "print(y_pred)\n",
    "\n",
    "print(y_pred.std())\n"
   ],
   "metadata": {
    "collapsed": false
   }
  },
  {
   "cell_type": "markdown",
   "source": [
    "## Q2. Preparing the output\n",
    "\n",
    "Like in the course videos, we want to prepare the dataframe with the\n",
    "output.\n",
    "\n",
    "First, let’s create an artificial `ride_id` column:\n",
    "\n",
    "``` python\n",
    "df['ride_id'] = f'{year:04d}/{month:02d}_' + df.index.astype('str')\n",
    "```\n",
    "\n",
    "Next, write the ride id and the predictions to a dataframe with results.\n",
    "\n",
    "Save it as parquet:\n",
    "\n",
    "``` python\n",
    "df_result.to_parquet(\n",
    "    output_file,\n",
    "    engine='pyarrow',\n",
    "    compression=None,\n",
    "    index=False\n",
    ")\n",
    "```\n",
    "\n",
    "What’s the size of the output file?\n",
    "\n",
    "-   28M\n",
    "-   38M\n",
    "-   48M\n",
    "-   58M\n",
    "\n",
    "**Note:** Make sure you use the snippet above for saving the file. It\n",
    "should contain only these two columns. For this question, don’t change\n",
    "the dtypes of the columns and use pyarrow, not fastparquet.\n",
    "\n"
   ],
   "metadata": {
    "collapsed": false
   }
  },
  {
   "cell_type": "code",
   "execution_count": 23,
   "outputs": [],
   "source": [
    "df['ride_id'] = f'{year:04d}/{month:02d}_' + df.index.astype('str')"
   ],
   "metadata": {
    "collapsed": false
   }
  },
  {
   "cell_type": "code",
   "execution_count": 24,
   "outputs": [],
   "source": [
    "df_result = pd.DataFrame()\n",
    "df_result['ride_id'] = df['ride_id']\n",
    "df_result['predicted_duration'] = y_pred\n",
    "\n",
    "df_result.to_parquet(\n",
    "    \"output.parquet\",\n",
    "    engine='pyarrow',\n",
    "    compression=None,\n",
    "    index=False\n",
    ")"
   ],
   "metadata": {
    "collapsed": false
   }
  },
  {
   "cell_type": "code",
   "execution_count": 28,
   "outputs": [
    {
     "name": "stdout",
     "output_type": "stream",
     "text": [
      "59994935\n"
     ]
    }
   ],
   "source": [
    "import os\n",
    "\n",
    "file_stats = os.stat(\"output.parquet\")\n",
    "\n",
    "print(file_stats.st_size)"
   ],
   "metadata": {
    "collapsed": false
   }
  },
  {
   "cell_type": "markdown",
   "source": [
    "## Q3. Creating the scoring script\n",
    "\n",
    "Now let’s turn the notebook into a script.\n",
    "\n",
    "Which command you need to execute for that?\n",
    "\n"
   ],
   "metadata": {
    "collapsed": false
   }
  },
  {
   "cell_type": "markdown",
   "source": [
    "jupyter nbconvert --to script starter.ipynb"
   ],
   "metadata": {
    "collapsed": false
   }
  },
  {
   "cell_type": "markdown",
   "source": [
    "## Q4. Virtual environment\n",
    "\n",
    "Now let’s put everything into a virtual environment. We’ll use pipenv\n",
    "for that.\n",
    "\n",
    "Install all the required libraries. Pay attention to the Scikit-Learn\n",
    "version: it should be `scikit-learn==1.2.2`.\n",
    "\n",
    "After installing the libraries, pipenv creates two files: `Pipfile` and\n",
    "`Pipfile.lock`. The `Pipfile.lock` file keeps the hashes of the\n",
    "dependencies we use for the virtual env.\n",
    "\n",
    "What’s the first hash for the Scikit-Learn dependency?\n",
    "\n"
   ],
   "metadata": {
    "collapsed": false
   }
  },
  {
   "cell_type": "code",
   "execution_count": null,
   "outputs": [],
   "source": [
    "pip install pipenv\n",
    "pipenv --version\n",
    "pipenv --python=3.9\n",
    "pipenv install scikit-learn==1.2.2 pandas"
   ],
   "metadata": {
    "collapsed": false
   }
  },
  {
   "cell_type": "markdown",
   "source": [
    "## Q5. Parametrize the script\n",
    "\n",
    "Let’s now make the script configurable via CLI. We’ll create two\n",
    "parameters: year and month.\n",
    "\n",
    "Run the script for March 2022.\n",
    "\n",
    "What’s the mean predicted duration?\n",
    "\n",
    "-   7.76\n",
    "-   12.76\n",
    "-   17.76\n",
    "-   22.76\n",
    "\n",
    "Hint: just add a print statement to your script.\n",
    "\n"
   ],
   "metadata": {
    "collapsed": false
   }
  },
  {
   "cell_type": "markdown",
   "source": [],
   "metadata": {
    "collapsed": false
   }
  },
  {
   "cell_type": "code",
   "execution_count": null,
   "outputs": [],
   "source": [],
   "metadata": {
    "collapsed": false
   }
  },
  {
   "cell_type": "markdown",
   "source": [
    "## Q6. Docker container\n",
    "\n",
    "Finally, we’ll package the script in the docker container. For that,\n",
    "you’ll need to use a base image that we prepared.\n",
    "\n",
    "This is how it looks like:\n",
    "\n",
    "    FROM python:3.10.0-slim\n",
    "\n",
    "    WORKDIR /app\n",
    "    COPY [ \"model2.bin\", \"model.bin\" ]\n",
    "\n",
    "(see [`homework/Dockerfile`](homework/Dockerfile))\n",
    "\n",
    "We pushed it to\n",
    "[`svizor/zoomcamp-model:mlops-3.10.0-slim`](https://hub.docker.com/layers/svizor/zoomcamp-model/mlops-3.10.0-slim/images/sha256-595bf690875f5b9075550b61c609be10f05e6915609ef4ea4ce9797116c99eff?context=repo),\n",
    "which you should use as your base image.\n",
    "\n",
    "That is, this is how your Dockerfile should start:\n",
    "\n",
    "``` docker\n",
    "FROM svizor/zoomcamp-model:mlops-3.10.0-slim\n",
    "\n",
    "# do stuff here\n",
    "```\n",
    "\n",
    "This image already has a pickle file with a dictionary vectorizer and a\n",
    "model. You will need to use them.\n",
    "\n",
    "Important: don’t copy the model to the docker image. You will need to\n",
    "use the pickle file already in the image.\n",
    "\n",
    "Now run the script with docker. What’s the mean predicted duration for\n",
    "April 2022?\n",
    "\n",
    "-   7.92\n",
    "-   12.83\n",
    "-   17.92\n",
    "-   22.83\n",
    "\n",
    "## Bonus: upload the result to the cloud (Not graded)\n",
    "\n",
    "Just printing the mean duration inside the docker image doesn’t seem\n",
    "very practical. Typically, after creating the output file, we upload it\n",
    "to the cloud storage.\n",
    "\n",
    "Modify your code to upload the parquet file to S3/GCS/etc.\n",
    "\n",
    "## Publishing the image to dockerhub\n",
    "\n",
    "This is how we published the image to Docker hub:\n",
    "\n",
    "``` bash\n",
    "docker build -t mlops-zoomcamp-model:v1 .\n",
    "docker tag mlops-zoomcamp-model:v1 svizor/zoomcamp-model:mlops-3.10.0-slim\n",
    "docker push svizor/zoomcamp-model:mlops-3.10.0-slim\n",
    "```"
   ],
   "metadata": {
    "collapsed": false
   }
  },
  {
   "cell_type": "code",
   "execution_count": null,
   "outputs": [],
   "source": [],
   "metadata": {
    "collapsed": false
   }
  },
  {
   "cell_type": "code",
   "execution_count": null,
   "outputs": [],
   "source": [],
   "metadata": {
    "collapsed": false
   }
  },
  {
   "cell_type": "code",
   "execution_count": null,
   "outputs": [],
   "source": [],
   "metadata": {
    "collapsed": false
   }
  }
 ],
 "nbformat": 4,
 "nbformat_minor": 5,
 "metadata": {}
}
